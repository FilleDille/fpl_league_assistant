{
 "cells": [
  {
   "cell_type": "code",
   "execution_count": 1,
   "metadata": {
    "collapsed": true,
    "ExecuteTime": {
     "start_time": "2023-08-15T09:47:02.153955Z",
     "end_time": "2023-08-15T09:47:04.527567Z"
    }
   },
   "outputs": [],
   "source": [
    "import pandas as pd\n",
    "import requests as rq\n",
    "import json\n",
    "import league_data_fetcher"
   ]
  },
  {
   "cell_type": "code",
   "execution_count": null,
   "outputs": [],
   "source": [
    "response_raw = rq.get('https://fantasy.premierleague.com/api/element-summary/405/')\n",
    "response: json = response_raw.json()"
   ],
   "metadata": {
    "collapsed": false,
    "ExecuteTime": {
     "start_time": "2023-08-14T19:38:17.047664Z",
     "end_time": "2023-08-14T19:38:17.210306Z"
    }
   }
  },
  {
   "cell_type": "code",
   "execution_count": null,
   "outputs": [],
   "source": [
    "url_bootstrap = 'https://fantasy.premierleague.com/api/bootstrap-static/'\n",
    "bootstrap_raw = rq.get(url_bootstrap)"
   ],
   "metadata": {
    "collapsed": false,
    "ExecuteTime": {
     "start_time": "2023-08-13T12:41:19.225044Z",
     "end_time": "2023-08-13T12:41:19.370222Z"
    }
   }
  },
  {
   "cell_type": "code",
   "execution_count": 8,
   "outputs": [],
   "source": [
    "league_response_raw = rq.get('https://fantasy.premierleague.com/api/entry/21482/event/1/picks/')\n",
    "league_response: json = league_response_raw.json()"
   ],
   "metadata": {
    "collapsed": false,
    "ExecuteTime": {
     "start_time": "2023-08-15T09:31:44.085340Z",
     "end_time": "2023-08-15T09:31:44.260759Z"
    }
   }
  },
  {
   "cell_type": "code",
   "execution_count": null,
   "outputs": [
    {
     "name": "stdout",
     "output_type": "stream",
     "text": [
      "Fetching league entries\n",
      "Entry #1 saved, sleeping for 1.1 s\n",
      "Entry #2 saved, sleeping for 1.1 s\n",
      "Entry #3 saved, sleeping for 1.1 s\n",
      "Entry #4 saved, sleeping for 1.1 s\n",
      "Entry #5 saved, sleeping for 1.1 s\n",
      "Entry #6 saved, sleeping for 1.1 s\n",
      "Entry #7 saved, sleeping for 1.1 s\n",
      "Entry #8 saved, sleeping for 1.1 s\n",
      "Entry #9 saved, sleeping for 1.1 s\n",
      "Entry #10 saved, sleeping for 1.1 s\n",
      "Entry #11 saved, sleeping for 1.1 s\n",
      "Entry #12 saved, sleeping for 1.1 s\n",
      "Entry #13 saved, sleeping for 1.1 s\n",
      "Entry #14 saved, sleeping for 1.1 s\n",
      "Entry #15 saved, sleeping for 1.1 s\n",
      "Entry #16 saved, sleeping for 1.1 s\n",
      "Entry #17 saved, sleeping for 1.1 s\n",
      "Entry #18 saved, sleeping for 1.1 s\n",
      "Entry #19 saved, sleeping for 1.1 s\n",
      "Entry #20 saved, sleeping for 1.1 s\n",
      "Entry #21 saved, sleeping for 1.1 s\n",
      "Entry #22 saved, sleeping for 1.1 s\n",
      "Entry #23 saved, sleeping for 1.1 s\n",
      "Entry #24 saved, sleeping for 1.1 s\n",
      "Entry #25 saved, sleeping for 1.1 s\n",
      "Entry #26 saved, sleeping for 1.1 s\n",
      "Entry #27 saved, sleeping for 1.1 s\n",
      "Entry #28 saved, sleeping for 1.1 s\n",
      "Entry #29 saved, sleeping for 1.1 s\n",
      "Entry #30 saved, sleeping for 1.1 s\n",
      "Entry #31 saved, sleeping for 1.1 s\n",
      "Entry #32 saved, sleeping for 1.1 s\n",
      "Entry #33 saved, sleeping for 1.1 s\n",
      "Entry #34 saved, sleeping for 1.1 s\n",
      "Entry #35 saved, sleeping for 1.1 s\n",
      "Entry #36 saved, sleeping for 1.1 s\n",
      "Entry #37 saved, sleeping for 1.1 s\n",
      "Entry #38 saved, sleeping for 1.1 s\n",
      "Entry #39 saved, sleeping for 1.1 s\n",
      "Entry #40 saved, sleeping for 1.1 s\n",
      "Entry #41 saved, sleeping for 1.1 s\n",
      "Entry #42 saved, sleeping for 1.1 s\n",
      "Entry #43 saved, sleeping for 1.1 s\n",
      "Entry #44 saved, sleeping for 1.1 s\n",
      "Entry #45 saved, sleeping for 1.1 s\n",
      "Player #1 created, sleeping for 1.1 s\n",
      "Player #2 created, sleeping for 1.1 s\n",
      "Player #3 created, sleeping for 1.1 s\n",
      "Player #4 created, sleeping for 1.1 s\n",
      "Player #5 created, sleeping for 1.1 s\n",
      "Player #6 created, sleeping for 1.1 s\n",
      "Player #7 created, sleeping for 1.1 s\n",
      "Player #8 created, sleeping for 1.1 s\n",
      "Player #9 created, sleeping for 1.1 s\n",
      "Player #10 created, sleeping for 1.1 s\n",
      "Player #11 created, sleeping for 1.1 s\n",
      "Player #12 created, sleeping for 1.1 s\n",
      "Player #13 created, sleeping for 1.1 s\n",
      "Player #14 created, sleeping for 1.1 s\n",
      "Player #15 created, sleeping for 1.1 s\n",
      "Player #16 created, sleeping for 1.1 s\n",
      "Player #17 created, sleeping for 1.1 s\n",
      "Player #18 created, sleeping for 1.1 s\n",
      "Player #19 created, sleeping for 1.1 s\n",
      "Player #20 created, sleeping for 1.1 s\n",
      "Player #21 created, sleeping for 1.1 s\n",
      "Player #22 created, sleeping for 1.1 s\n",
      "Player #23 created, sleeping for 1.1 s\n",
      "Player #24 created, sleeping for 1.1 s\n",
      "Player #25 created, sleeping for 1.1 s\n",
      "Player #26 created, sleeping for 1.1 s\n",
      "Player #27 created, sleeping for 1.1 s\n",
      "Player #28 created, sleeping for 1.1 s\n",
      "Player #29 created, sleeping for 1.1 s\n",
      "Player #30 created, sleeping for 1.1 s\n",
      "Player #31 created, sleeping for 1.1 s\n",
      "Player #32 created, sleeping for 1.1 s\n",
      "Player #33 created, sleeping for 1.1 s\n",
      "Player #34 created, sleeping for 1.1 s\n",
      "Player #35 created, sleeping for 1.1 s\n",
      "Player #36 created, sleeping for 1.1 s\n",
      "Player #37 created, sleeping for 1.1 s\n",
      "Player #38 created, sleeping for 1.1 s\n",
      "Player #39 created, sleeping for 1.1 s\n",
      "Player #40 created, sleeping for 1.1 s\n",
      "Player #41 created, sleeping for 1.1 s\n",
      "Player #42 created, sleeping for 1.1 s\n",
      "Player #43 created, sleeping for 1.1 s\n",
      "Player #44 created, sleeping for 1.1 s\n",
      "Player #45 created, sleeping for 1.1 s\n",
      "Player #46 created, sleeping for 1.1 s\n",
      "Player #47 created, sleeping for 1.1 s\n",
      "Player #48 created, sleeping for 1.1 s\n",
      "Player #49 created, sleeping for 1.1 s\n",
      "Player #50 created, sleeping for 1.1 s\n",
      "Player #51 created, sleeping for 1.1 s\n",
      "Player #52 created, sleeping for 1.1 s\n",
      "Player #53 created, sleeping for 1.1 s\n",
      "Player #54 created, sleeping for 1.1 s\n",
      "Player #55 created, sleeping for 1.1 s\n",
      "Player #56 created, sleeping for 1.1 s\n",
      "Player #57 created, sleeping for 1.1 s\n",
      "Player #58 created, sleeping for 1.1 s\n",
      "Player #59 created, sleeping for 1.1 s\n",
      "Player #60 created, sleeping for 1.1 s\n",
      "Player #61 created, sleeping for 1.1 s\n",
      "Player #62 created, sleeping for 1.1 s\n",
      "Player #63 created, sleeping for 1.1 s\n",
      "Player #64 created, sleeping for 1.1 s\n",
      "Player #65 created, sleeping for 1.1 s\n",
      "Player #66 created, sleeping for 1.1 s\n",
      "Player #67 created, sleeping for 1.1 s\n",
      "Player #68 created, sleeping for 1.1 s\n",
      "Player #69 created, sleeping for 1.1 s\n",
      "Player #70 created, sleeping for 1.1 s\n",
      "Player #71 created, sleeping for 1.1 s\n",
      "Player #72 created, sleeping for 1.1 s\n",
      "Player #73 created, sleeping for 1.1 s\n",
      "Player #74 created, sleeping for 1.1 s\n",
      "Player #75 created, sleeping for 1.1 s\n",
      "Player #76 created, sleeping for 1.1 s\n",
      "Player #77 created, sleeping for 1.1 s\n",
      "Player #78 created, sleeping for 1.1 s\n",
      "Player #79 created, sleeping for 1.1 s\n",
      "Player #80 created, sleeping for 1.1 s\n",
      "Player #81 created, sleeping for 1.1 s\n",
      "Player #82 created, sleeping for 1.1 s\n",
      "Player #83 created, sleeping for 1.1 s\n",
      "Player #84 created, sleeping for 1.1 s\n",
      "Player #85 created, sleeping for 1.1 s\n",
      "Player #86 created, sleeping for 1.1 s\n",
      "Player #87 created, sleeping for 1.1 s\n",
      "Player #88 created, sleeping for 1.1 s\n",
      "Player #89 created, sleeping for 1.1 s\n",
      "Player #90 created, sleeping for 1.1 s\n",
      "Player #91 created, sleeping for 1.1 s\n",
      "Player #92 created, sleeping for 1.1 s\n",
      "Player #93 created, sleeping for 1.1 s\n"
     ]
    }
   ],
   "source": [
    "fpl = league_data_fetcher.Fetcher(1.1, 27964, 1)"
   ],
   "metadata": {
    "collapsed": false,
    "ExecuteTime": {
     "start_time": "2023-08-15T09:47:15.832842Z",
     "end_time": "2023-08-15T09:47:42.360133Z"
    },
    "pycharm": {
     "is_executing": true
    }
   }
  },
  {
   "cell_type": "code",
   "execution_count": 3,
   "outputs": [
    {
     "data": {
      "text/plain": "16"
     },
     "execution_count": 3,
     "metadata": {},
     "output_type": "execute_result"
    }
   ],
   "source": [
    "fpl.team_dict[21482].aggregate('bps', 'median')"
   ],
   "metadata": {
    "collapsed": false,
    "ExecuteTime": {
     "start_time": "2023-08-15T09:47:52.287461Z",
     "end_time": "2023-08-15T09:47:52.306444Z"
    }
   }
  },
  {
   "cell_type": "code",
   "execution_count": 5,
   "outputs": [
    {
     "data": {
      "text/plain": "0.65"
     },
     "execution_count": 5,
     "metadata": {},
     "output_type": "execute_result"
    }
   ],
   "source": [
    "fpl.team_dict[82846].uniqueness"
   ],
   "metadata": {
    "collapsed": false,
    "ExecuteTime": {
     "start_time": "2023-08-15T09:48:30.676078Z",
     "end_time": "2023-08-15T09:48:30.687987Z"
    }
   }
  },
  {
   "cell_type": "code",
   "execution_count": null,
   "outputs": [],
   "source": [],
   "metadata": {
    "collapsed": false
   }
  }
 ],
 "metadata": {
  "kernelspec": {
   "display_name": "Python 3",
   "language": "python",
   "name": "python3"
  },
  "language_info": {
   "codemirror_mode": {
    "name": "ipython",
    "version": 2
   },
   "file_extension": ".py",
   "mimetype": "text/x-python",
   "name": "python",
   "nbconvert_exporter": "python",
   "pygments_lexer": "ipython2",
   "version": "2.7.6"
  }
 },
 "nbformat": 4,
 "nbformat_minor": 0
}
