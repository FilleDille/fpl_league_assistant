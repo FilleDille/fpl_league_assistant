{
 "cells": [
  {
   "cell_type": "code",
   "execution_count": 2,
   "metadata": {
    "collapsed": true,
    "ExecuteTime": {
     "start_time": "2023-08-14T19:16:51.089591Z",
     "end_time": "2023-08-14T19:16:54.013746Z"
    }
   },
   "outputs": [],
   "source": [
    "import pandas as pd\n",
    "import requests as rq\n",
    "import json\n",
    "import time"
   ]
  },
  {
   "cell_type": "code",
   "execution_count": 5,
   "outputs": [],
   "source": [
    "response_raw = rq.get('https://fantasy.premierleague.com/api/element-summary/355/')\n",
    "response: json = response_raw.json()"
   ],
   "metadata": {
    "collapsed": false,
    "ExecuteTime": {
     "start_time": "2023-08-14T19:38:17.047664Z",
     "end_time": "2023-08-14T19:38:17.210306Z"
    }
   }
  },
  {
   "cell_type": "code",
   "execution_count": 6,
   "outputs": [
    {
     "data": {
      "text/plain": "{'fixtures': [{'id': 16,\n   'code': 2367553,\n   'team_h': 13,\n   'team_h_score': None,\n   'team_a': 15,\n   'team_a_score': None,\n   'event': 2,\n   'finished': False,\n   'minutes': 0,\n   'provisional_start_time': False,\n   'kickoff_time': '2023-08-19T19:00:00Z',\n   'event_name': 'Gameweek 2',\n   'is_home': True,\n   'difficulty': 4},\n  {'id': 30,\n   'code': 2367567,\n   'team_h': 17,\n   'team_h_score': None,\n   'team_a': 13,\n   'team_a_score': None,\n   'event': 3,\n   'finished': False,\n   'minutes': 0,\n   'provisional_start_time': False,\n   'kickoff_time': '2023-08-27T13:00:00Z',\n   'event_name': 'Gameweek 3',\n   'is_home': False,\n   'difficulty': 2},\n  {'id': 39,\n   'code': 2367576,\n   'team_h': 13,\n   'team_h_score': None,\n   'team_a': 10,\n   'team_a_score': None,\n   'event': 4,\n   'finished': False,\n   'minutes': 0,\n   'provisional_start_time': False,\n   'kickoff_time': '2023-09-02T14:00:00Z',\n   'event_name': 'Gameweek 4',\n   'is_home': True,\n   'difficulty': 2},\n  {'id': 49,\n   'code': 2367586,\n   'team_h': 19,\n   'team_h_score': None,\n   'team_a': 13,\n   'team_a_score': None,\n   'event': 5,\n   'finished': False,\n   'minutes': 0,\n   'provisional_start_time': False,\n   'kickoff_time': '2023-09-16T14:00:00Z',\n   'event_name': 'Gameweek 5',\n   'is_home': False,\n   'difficulty': 3},\n  {'id': 59,\n   'code': 2367596,\n   'team_h': 13,\n   'team_h_score': None,\n   'team_a': 16,\n   'team_a_score': None,\n   'event': 6,\n   'finished': False,\n   'minutes': 0,\n   'provisional_start_time': False,\n   'kickoff_time': '2023-09-23T14:00:00Z',\n   'event_name': 'Gameweek 6',\n   'is_home': True,\n   'difficulty': 2},\n  {'id': 70,\n   'code': 2367607,\n   'team_h': 20,\n   'team_h_score': None,\n   'team_a': 13,\n   'team_a_score': None,\n   'event': 7,\n   'finished': False,\n   'minutes': 0,\n   'provisional_start_time': False,\n   'kickoff_time': '2023-09-30T14:00:00Z',\n   'event_name': 'Gameweek 7',\n   'is_home': False,\n   'difficulty': 2},\n  {'id': 71,\n   'code': 2367608,\n   'team_h': 1,\n   'team_h_score': None,\n   'team_a': 13,\n   'team_a_score': None,\n   'event': 8,\n   'finished': False,\n   'minutes': 0,\n   'provisional_start_time': False,\n   'kickoff_time': '2023-10-07T14:00:00Z',\n   'event_name': 'Gameweek 8',\n   'is_home': False,\n   'difficulty': 4},\n  {'id': 86,\n   'code': 2367623,\n   'team_h': 13,\n   'team_h_score': None,\n   'team_a': 5,\n   'team_a_score': None,\n   'event': 9,\n   'finished': False,\n   'minutes': 0,\n   'provisional_start_time': False,\n   'kickoff_time': '2023-10-21T14:00:00Z',\n   'event_name': 'Gameweek 9',\n   'is_home': True,\n   'difficulty': 3},\n  {'id': 98,\n   'code': 2367635,\n   'team_h': 14,\n   'team_h_score': None,\n   'team_a': 13,\n   'team_a_score': None,\n   'event': 10,\n   'finished': False,\n   'minutes': 0,\n   'provisional_start_time': False,\n   'kickoff_time': '2023-10-28T14:00:00Z',\n   'event_name': 'Gameweek 10',\n   'is_home': False,\n   'difficulty': 4},\n  {'id': 106,\n   'code': 2367643,\n   'team_h': 13,\n   'team_h_score': None,\n   'team_a': 3,\n   'team_a_score': None,\n   'event': 11,\n   'finished': False,\n   'minutes': 0,\n   'provisional_start_time': False,\n   'kickoff_time': '2023-11-04T15:00:00Z',\n   'event_name': 'Gameweek 11',\n   'is_home': True,\n   'difficulty': 2},\n  {'id': 115,\n   'code': 2367652,\n   'team_h': 7,\n   'team_h_score': None,\n   'team_a': 13,\n   'team_a_score': None,\n   'event': 12,\n   'finished': False,\n   'minutes': 0,\n   'provisional_start_time': False,\n   'kickoff_time': '2023-11-11T15:00:00Z',\n   'event_name': 'Gameweek 12',\n   'is_home': False,\n   'difficulty': 3},\n  {'id': 126,\n   'code': 2367663,\n   'team_h': 13,\n   'team_h_score': None,\n   'team_a': 11,\n   'team_a_score': None,\n   'event': 13,\n   'finished': False,\n   'minutes': 0,\n   'provisional_start_time': False,\n   'kickoff_time': '2023-11-25T15:00:00Z',\n   'event_name': 'Gameweek 13',\n   'is_home': True,\n   'difficulty': 4},\n  {'id': 137,\n   'code': 2367674,\n   'team_h': 13,\n   'team_h_score': None,\n   'team_a': 18,\n   'team_a_score': None,\n   'event': 14,\n   'finished': False,\n   'minutes': 0,\n   'provisional_start_time': False,\n   'kickoff_time': '2023-12-02T15:00:00Z',\n   'event_name': 'Gameweek 14',\n   'is_home': True,\n   'difficulty': 3},\n  {'id': 141,\n   'code': 2367678,\n   'team_h': 2,\n   'team_h_score': None,\n   'team_a': 13,\n   'team_a_score': None,\n   'event': 15,\n   'finished': False,\n   'minutes': 0,\n   'provisional_start_time': False,\n   'kickoff_time': '2023-12-05T19:45:00Z',\n   'event_name': 'Gameweek 15',\n   'is_home': False,\n   'difficulty': 3},\n  {'id': 156,\n   'code': 2367693,\n   'team_h': 12,\n   'team_h_score': None,\n   'team_a': 13,\n   'team_a_score': None,\n   'event': 16,\n   'finished': False,\n   'minutes': 0,\n   'provisional_start_time': False,\n   'kickoff_time': '2023-12-09T15:00:00Z',\n   'event_name': 'Gameweek 16',\n   'is_home': False,\n   'difficulty': 2},\n  {'id': 167,\n   'code': 2367704,\n   'team_h': 13,\n   'team_h_score': None,\n   'team_a': 8,\n   'team_a_score': None,\n   'event': 17,\n   'finished': False,\n   'minutes': 0,\n   'provisional_start_time': False,\n   'kickoff_time': '2023-12-16T15:00:00Z',\n   'event_name': 'Gameweek 17',\n   'is_home': True,\n   'difficulty': 2},\n  {'id': 187,\n   'code': 2367724,\n   'team_h': 9,\n   'team_h_score': None,\n   'team_a': 13,\n   'team_a_score': None,\n   'event': 19,\n   'finished': False,\n   'minutes': 0,\n   'provisional_start_time': False,\n   'kickoff_time': '2023-12-26T15:00:00Z',\n   'event_name': 'Gameweek 19',\n   'is_home': False,\n   'difficulty': 2},\n  {'id': 196,\n   'code': 2367733,\n   'team_h': 13,\n   'team_h_score': None,\n   'team_a': 17,\n   'team_a_score': None,\n   'event': 20,\n   'finished': False,\n   'minutes': 0,\n   'provisional_start_time': False,\n   'kickoff_time': '2023-12-30T15:00:00Z',\n   'event_name': 'Gameweek 20',\n   'is_home': True,\n   'difficulty': 2},\n  {'id': 209,\n   'code': 2367746,\n   'team_h': 15,\n   'team_h_score': None,\n   'team_a': 13,\n   'team_a_score': None,\n   'event': 21,\n   'finished': False,\n   'minutes': 0,\n   'provisional_start_time': False,\n   'kickoff_time': '2024-01-13T15:00:00Z',\n   'event_name': 'Gameweek 21',\n   'is_home': False,\n   'difficulty': 4},\n  {'id': 220,\n   'code': 2367757,\n   'team_h': 13,\n   'team_h_score': None,\n   'team_a': 6,\n   'team_a_score': None,\n   'event': 22,\n   'finished': False,\n   'minutes': 0,\n   'provisional_start_time': False,\n   'kickoff_time': '2024-01-31T20:00:00Z',\n   'event_name': 'Gameweek 22',\n   'is_home': True,\n   'difficulty': 2},\n  {'id': 223,\n   'code': 2367760,\n   'team_h': 4,\n   'team_h_score': None,\n   'team_a': 13,\n   'team_a_score': None,\n   'event': 23,\n   'finished': False,\n   'minutes': 0,\n   'provisional_start_time': False,\n   'kickoff_time': '2024-02-03T15:00:00Z',\n   'event_name': 'Gameweek 23',\n   'is_home': False,\n   'difficulty': 3},\n  {'id': 236,\n   'code': 2367773,\n   'team_h': 13,\n   'team_h_score': None,\n   'team_a': 9,\n   'team_a_score': None,\n   'event': 24,\n   'finished': False,\n   'minutes': 0,\n   'provisional_start_time': False,\n   'kickoff_time': '2024-02-10T15:00:00Z',\n   'event_name': 'Gameweek 24',\n   'is_home': True,\n   'difficulty': 2},\n  {'id': 246,\n   'code': 2367783,\n   'team_h': 13,\n   'team_h_score': None,\n   'team_a': 7,\n   'team_a_score': None,\n   'event': 25,\n   'finished': False,\n   'minutes': 0,\n   'provisional_start_time': False,\n   'kickoff_time': '2024-02-17T15:00:00Z',\n   'event_name': 'Gameweek 25',\n   'is_home': True,\n   'difficulty': 3},\n  {'id': 253,\n   'code': 2367788,\n   'team_h': 3,\n   'team_h_score': None,\n   'team_a': 13,\n   'team_a_score': None,\n   'event': 26,\n   'finished': False,\n   'minutes': 0,\n   'provisional_start_time': False,\n   'kickoff_time': '2024-02-24T15:00:00Z',\n   'event_name': 'Gameweek 26',\n   'is_home': False,\n   'difficulty': 2},\n  {'id': 266,\n   'code': 2367803,\n   'team_h': 13,\n   'team_h_score': None,\n   'team_a': 14,\n   'team_a_score': None,\n   'event': 27,\n   'finished': False,\n   'minutes': 0,\n   'provisional_start_time': False,\n   'kickoff_time': '2024-03-02T15:00:00Z',\n   'event_name': 'Gameweek 27',\n   'is_home': True,\n   'difficulty': 3},\n  {'id': 277,\n   'code': 2367814,\n   'team_h': 11,\n   'team_h_score': None,\n   'team_a': 13,\n   'team_a_score': None,\n   'event': 28,\n   'finished': False,\n   'minutes': 0,\n   'provisional_start_time': False,\n   'kickoff_time': '2024-03-09T15:00:00Z',\n   'event_name': 'Gameweek 28',\n   'is_home': False,\n   'difficulty': 4},\n  {'id': 282,\n   'code': 2367819,\n   'team_h': 5,\n   'team_h_score': None,\n   'team_a': 13,\n   'team_a_score': None,\n   'event': 29,\n   'finished': False,\n   'minutes': 0,\n   'provisional_start_time': False,\n   'kickoff_time': '2024-03-16T15:00:00Z',\n   'event_name': 'Gameweek 29',\n   'is_home': False,\n   'difficulty': 3},\n  {'id': 296,\n   'code': 2367833,\n   'team_h': 13,\n   'team_h_score': None,\n   'team_a': 1,\n   'team_a_score': None,\n   'event': 30,\n   'finished': False,\n   'minutes': 0,\n   'provisional_start_time': False,\n   'kickoff_time': '2024-03-30T15:00:00Z',\n   'event_name': 'Gameweek 30',\n   'is_home': True,\n   'difficulty': 4},\n  {'id': 309,\n   'code': 2367846,\n   'team_h': 13,\n   'team_h_score': None,\n   'team_a': 2,\n   'team_a_score': None,\n   'event': 31,\n   'finished': False,\n   'minutes': 0,\n   'provisional_start_time': False,\n   'kickoff_time': '2024-04-03T19:00:00Z',\n   'event_name': 'Gameweek 31',\n   'is_home': True,\n   'difficulty': 3},\n  {'id': 313,\n   'code': 2367850,\n   'team_h': 8,\n   'team_h_score': None,\n   'team_a': 13,\n   'team_a_score': None,\n   'event': 32,\n   'finished': False,\n   'minutes': 0,\n   'provisional_start_time': False,\n   'kickoff_time': '2024-04-06T14:00:00Z',\n   'event_name': 'Gameweek 32',\n   'is_home': False,\n   'difficulty': 2},\n  {'id': 327,\n   'code': 2367864,\n   'team_h': 13,\n   'team_h_score': None,\n   'team_a': 12,\n   'team_a_score': None,\n   'event': 33,\n   'finished': False,\n   'minutes': 0,\n   'provisional_start_time': False,\n   'kickoff_time': '2024-04-13T14:00:00Z',\n   'event_name': 'Gameweek 33',\n   'is_home': True,\n   'difficulty': 2},\n  {'id': 339,\n   'code': 2367876,\n   'team_h': 18,\n   'team_h_score': None,\n   'team_a': 13,\n   'team_a_score': None,\n   'event': 34,\n   'finished': False,\n   'minutes': 0,\n   'provisional_start_time': False,\n   'kickoff_time': '2024-04-20T14:00:00Z',\n   'event_name': 'Gameweek 34',\n   'is_home': False,\n   'difficulty': 3},\n  {'id': 347,\n   'code': 2367884,\n   'team_h': 16,\n   'team_h_score': None,\n   'team_a': 13,\n   'team_a_score': None,\n   'event': 35,\n   'finished': False,\n   'minutes': 0,\n   'provisional_start_time': False,\n   'kickoff_time': '2024-04-27T14:00:00Z',\n   'event_name': 'Gameweek 35',\n   'is_home': False,\n   'difficulty': 2},\n  {'id': 359,\n   'code': 2367896,\n   'team_h': 13,\n   'team_h_score': None,\n   'team_a': 20,\n   'team_a_score': None,\n   'event': 36,\n   'finished': False,\n   'minutes': 0,\n   'provisional_start_time': False,\n   'kickoff_time': '2024-05-04T14:00:00Z',\n   'event_name': 'Gameweek 36',\n   'is_home': True,\n   'difficulty': 2},\n  {'id': 364,\n   'code': 2367901,\n   'team_h': 10,\n   'team_h_score': None,\n   'team_a': 13,\n   'team_a_score': None,\n   'event': 37,\n   'finished': False,\n   'minutes': 0,\n   'provisional_start_time': False,\n   'kickoff_time': '2024-05-11T14:00:00Z',\n   'event_name': 'Gameweek 37',\n   'is_home': False,\n   'difficulty': 2},\n  {'id': 379,\n   'code': 2367916,\n   'team_h': 13,\n   'team_h_score': None,\n   'team_a': 19,\n   'team_a_score': None,\n   'event': 38,\n   'finished': False,\n   'minutes': 0,\n   'provisional_start_time': False,\n   'kickoff_time': '2024-05-19T15:00:00Z',\n   'event_name': 'Gameweek 38',\n   'is_home': True,\n   'difficulty': 2},\n  {'id': 176,\n   'code': 2367713,\n   'team_h': 13,\n   'team_h_score': None,\n   'team_a': 4,\n   'team_a_score': None,\n   'event': None,\n   'finished': False,\n   'minutes': 0,\n   'provisional_start_time': False,\n   'kickoff_time': None,\n   'is_home': True,\n   'difficulty': 3}],\n 'history': [{'element': 355,\n   'fixture': 1,\n   'opponent_team': 6,\n   'total_points': 13,\n   'was_home': False,\n   'kickoff_time': '2023-08-11T19:00:00Z',\n   'team_h_score': 0,\n   'team_a_score': 3,\n   'round': 1,\n   'minutes': 79,\n   'goals_scored': 2,\n   'assists': 0,\n   'clean_sheets': 1,\n   'goals_conceded': 0,\n   'own_goals': 0,\n   'penalties_saved': 0,\n   'penalties_missed': 0,\n   'yellow_cards': 0,\n   'red_cards': 0,\n   'saves': 0,\n   'bonus': 3,\n   'bps': 56,\n   'influence': '67.6',\n   'creativity': '23.7',\n   'threat': '48.0',\n   'ict_index': '13.9',\n   'starts': 1,\n   'expected_goals': '0.60',\n   'expected_assists': '0.05',\n   'expected_goal_involvements': '0.65',\n   'expected_goals_conceded': '0.23',\n   'value': 140,\n   'transfers_balance': 0,\n   'selected': 7200159,\n   'transfers_in': 0,\n   'transfers_out': 0}],\n 'history_past': [{'season_name': '2022/23',\n   'element_code': 223094,\n   'start_cost': 115,\n   'end_cost': 124,\n   'total_points': 272,\n   'minutes': 2767,\n   'goals_scored': 36,\n   'assists': 9,\n   'clean_sheets': 13,\n   'goals_conceded': 26,\n   'own_goals': 0,\n   'penalties_saved': 0,\n   'penalties_missed': 0,\n   'yellow_cards': 5,\n   'red_cards': 0,\n   'saves': 0,\n   'bonus': 40,\n   'bps': 1040,\n   'influence': '1390.0',\n   'creativity': '371.0',\n   'threat': '1825.0',\n   'ict_index': '358.1',\n   'starts': 33,\n   'expected_goals': '28.54',\n   'expected_assists': '3.11',\n   'expected_goal_involvements': '31.65',\n   'expected_goals_conceded': '25.24'}]}"
     },
     "execution_count": 6,
     "metadata": {},
     "output_type": "execute_result"
    }
   ],
   "source": [
    "response"
   ],
   "metadata": {
    "collapsed": false,
    "ExecuteTime": {
     "start_time": "2023-08-14T19:38:17.394930Z",
     "end_time": "2023-08-14T19:38:17.405367Z"
    }
   }
  },
  {
   "cell_type": "code",
   "execution_count": 130,
   "outputs": [],
   "source": [
    "d = []\n",
    "entry = '21482'\n",
    "entry_picks = [player['element'] for player in response['picks']]\n",
    "d.append({entry: entry_picks})"
   ],
   "metadata": {
    "collapsed": false,
    "ExecuteTime": {
     "start_time": "2023-08-11T22:13:06.135315Z",
     "end_time": "2023-08-11T22:13:06.140861Z"
    }
   }
  },
  {
   "cell_type": "code",
   "execution_count": 133,
   "outputs": [
    {
     "data": {
      "text/plain": "[275, 206, 506, 398, 19, 226, 353, 509, 396, 355, 60, 524, 326, 139, 405]"
     },
     "execution_count": 133,
     "metadata": {},
     "output_type": "execute_result"
    }
   ],
   "source": [
    "d[0]['21482']"
   ],
   "metadata": {
    "collapsed": false,
    "ExecuteTime": {
     "start_time": "2023-08-11T22:13:34.974451Z",
     "end_time": "2023-08-11T22:13:34.981843Z"
    }
   }
  },
  {
   "cell_type": "code",
   "execution_count": 25,
   "outputs": [],
   "source": [
    "player_response_raw = rq.get('https://fantasy.premierleague.com/api/element-summary/355/')\n",
    "player_response: json = player_response_raw.json()"
   ],
   "metadata": {
    "collapsed": false,
    "ExecuteTime": {
     "start_time": "2023-08-13T10:18:54.244498Z",
     "end_time": "2023-08-13T10:18:54.337450Z"
    }
   }
  },
  {
   "cell_type": "code",
   "execution_count": 26,
   "outputs": [
    {
     "data": {
      "text/plain": "{'fixtures': [{'id': 16,\n   'code': 2367553,\n   'team_h': 13,\n   'team_h_score': None,\n   'team_a': 15,\n   'team_a_score': None,\n   'event': 2,\n   'finished': False,\n   'minutes': 0,\n   'provisional_start_time': False,\n   'kickoff_time': '2023-08-19T19:00:00Z',\n   'event_name': 'Gameweek 2',\n   'is_home': True,\n   'difficulty': 4},\n  {'id': 30,\n   'code': 2367567,\n   'team_h': 17,\n   'team_h_score': None,\n   'team_a': 13,\n   'team_a_score': None,\n   'event': 3,\n   'finished': False,\n   'minutes': 0,\n   'provisional_start_time': False,\n   'kickoff_time': '2023-08-27T13:00:00Z',\n   'event_name': 'Gameweek 3',\n   'is_home': False,\n   'difficulty': 2},\n  {'id': 39,\n   'code': 2367576,\n   'team_h': 13,\n   'team_h_score': None,\n   'team_a': 10,\n   'team_a_score': None,\n   'event': 4,\n   'finished': False,\n   'minutes': 0,\n   'provisional_start_time': False,\n   'kickoff_time': '2023-09-02T14:00:00Z',\n   'event_name': 'Gameweek 4',\n   'is_home': True,\n   'difficulty': 2},\n  {'id': 49,\n   'code': 2367586,\n   'team_h': 19,\n   'team_h_score': None,\n   'team_a': 13,\n   'team_a_score': None,\n   'event': 5,\n   'finished': False,\n   'minutes': 0,\n   'provisional_start_time': False,\n   'kickoff_time': '2023-09-16T14:00:00Z',\n   'event_name': 'Gameweek 5',\n   'is_home': False,\n   'difficulty': 3},\n  {'id': 59,\n   'code': 2367596,\n   'team_h': 13,\n   'team_h_score': None,\n   'team_a': 16,\n   'team_a_score': None,\n   'event': 6,\n   'finished': False,\n   'minutes': 0,\n   'provisional_start_time': False,\n   'kickoff_time': '2023-09-23T14:00:00Z',\n   'event_name': 'Gameweek 6',\n   'is_home': True,\n   'difficulty': 2},\n  {'id': 70,\n   'code': 2367607,\n   'team_h': 20,\n   'team_h_score': None,\n   'team_a': 13,\n   'team_a_score': None,\n   'event': 7,\n   'finished': False,\n   'minutes': 0,\n   'provisional_start_time': False,\n   'kickoff_time': '2023-09-30T14:00:00Z',\n   'event_name': 'Gameweek 7',\n   'is_home': False,\n   'difficulty': 2},\n  {'id': 71,\n   'code': 2367608,\n   'team_h': 1,\n   'team_h_score': None,\n   'team_a': 13,\n   'team_a_score': None,\n   'event': 8,\n   'finished': False,\n   'minutes': 0,\n   'provisional_start_time': False,\n   'kickoff_time': '2023-10-07T14:00:00Z',\n   'event_name': 'Gameweek 8',\n   'is_home': False,\n   'difficulty': 4},\n  {'id': 86,\n   'code': 2367623,\n   'team_h': 13,\n   'team_h_score': None,\n   'team_a': 5,\n   'team_a_score': None,\n   'event': 9,\n   'finished': False,\n   'minutes': 0,\n   'provisional_start_time': False,\n   'kickoff_time': '2023-10-21T14:00:00Z',\n   'event_name': 'Gameweek 9',\n   'is_home': True,\n   'difficulty': 3},\n  {'id': 98,\n   'code': 2367635,\n   'team_h': 14,\n   'team_h_score': None,\n   'team_a': 13,\n   'team_a_score': None,\n   'event': 10,\n   'finished': False,\n   'minutes': 0,\n   'provisional_start_time': False,\n   'kickoff_time': '2023-10-28T14:00:00Z',\n   'event_name': 'Gameweek 10',\n   'is_home': False,\n   'difficulty': 4},\n  {'id': 106,\n   'code': 2367643,\n   'team_h': 13,\n   'team_h_score': None,\n   'team_a': 3,\n   'team_a_score': None,\n   'event': 11,\n   'finished': False,\n   'minutes': 0,\n   'provisional_start_time': False,\n   'kickoff_time': '2023-11-04T15:00:00Z',\n   'event_name': 'Gameweek 11',\n   'is_home': True,\n   'difficulty': 2},\n  {'id': 115,\n   'code': 2367652,\n   'team_h': 7,\n   'team_h_score': None,\n   'team_a': 13,\n   'team_a_score': None,\n   'event': 12,\n   'finished': False,\n   'minutes': 0,\n   'provisional_start_time': False,\n   'kickoff_time': '2023-11-11T15:00:00Z',\n   'event_name': 'Gameweek 12',\n   'is_home': False,\n   'difficulty': 3},\n  {'id': 126,\n   'code': 2367663,\n   'team_h': 13,\n   'team_h_score': None,\n   'team_a': 11,\n   'team_a_score': None,\n   'event': 13,\n   'finished': False,\n   'minutes': 0,\n   'provisional_start_time': False,\n   'kickoff_time': '2023-11-25T15:00:00Z',\n   'event_name': 'Gameweek 13',\n   'is_home': True,\n   'difficulty': 4},\n  {'id': 137,\n   'code': 2367674,\n   'team_h': 13,\n   'team_h_score': None,\n   'team_a': 18,\n   'team_a_score': None,\n   'event': 14,\n   'finished': False,\n   'minutes': 0,\n   'provisional_start_time': False,\n   'kickoff_time': '2023-12-02T15:00:00Z',\n   'event_name': 'Gameweek 14',\n   'is_home': True,\n   'difficulty': 3},\n  {'id': 141,\n   'code': 2367678,\n   'team_h': 2,\n   'team_h_score': None,\n   'team_a': 13,\n   'team_a_score': None,\n   'event': 15,\n   'finished': False,\n   'minutes': 0,\n   'provisional_start_time': False,\n   'kickoff_time': '2023-12-05T19:45:00Z',\n   'event_name': 'Gameweek 15',\n   'is_home': False,\n   'difficulty': 3},\n  {'id': 156,\n   'code': 2367693,\n   'team_h': 12,\n   'team_h_score': None,\n   'team_a': 13,\n   'team_a_score': None,\n   'event': 16,\n   'finished': False,\n   'minutes': 0,\n   'provisional_start_time': False,\n   'kickoff_time': '2023-12-09T15:00:00Z',\n   'event_name': 'Gameweek 16',\n   'is_home': False,\n   'difficulty': 2},\n  {'id': 167,\n   'code': 2367704,\n   'team_h': 13,\n   'team_h_score': None,\n   'team_a': 8,\n   'team_a_score': None,\n   'event': 17,\n   'finished': False,\n   'minutes': 0,\n   'provisional_start_time': False,\n   'kickoff_time': '2023-12-16T15:00:00Z',\n   'event_name': 'Gameweek 17',\n   'is_home': True,\n   'difficulty': 2},\n  {'id': 187,\n   'code': 2367724,\n   'team_h': 9,\n   'team_h_score': None,\n   'team_a': 13,\n   'team_a_score': None,\n   'event': 19,\n   'finished': False,\n   'minutes': 0,\n   'provisional_start_time': False,\n   'kickoff_time': '2023-12-26T15:00:00Z',\n   'event_name': 'Gameweek 19',\n   'is_home': False,\n   'difficulty': 2},\n  {'id': 196,\n   'code': 2367733,\n   'team_h': 13,\n   'team_h_score': None,\n   'team_a': 17,\n   'team_a_score': None,\n   'event': 20,\n   'finished': False,\n   'minutes': 0,\n   'provisional_start_time': False,\n   'kickoff_time': '2023-12-30T15:00:00Z',\n   'event_name': 'Gameweek 20',\n   'is_home': True,\n   'difficulty': 2},\n  {'id': 209,\n   'code': 2367746,\n   'team_h': 15,\n   'team_h_score': None,\n   'team_a': 13,\n   'team_a_score': None,\n   'event': 21,\n   'finished': False,\n   'minutes': 0,\n   'provisional_start_time': False,\n   'kickoff_time': '2024-01-13T15:00:00Z',\n   'event_name': 'Gameweek 21',\n   'is_home': False,\n   'difficulty': 4},\n  {'id': 220,\n   'code': 2367757,\n   'team_h': 13,\n   'team_h_score': None,\n   'team_a': 6,\n   'team_a_score': None,\n   'event': 22,\n   'finished': False,\n   'minutes': 0,\n   'provisional_start_time': False,\n   'kickoff_time': '2024-01-31T20:00:00Z',\n   'event_name': 'Gameweek 22',\n   'is_home': True,\n   'difficulty': 2},\n  {'id': 223,\n   'code': 2367760,\n   'team_h': 4,\n   'team_h_score': None,\n   'team_a': 13,\n   'team_a_score': None,\n   'event': 23,\n   'finished': False,\n   'minutes': 0,\n   'provisional_start_time': False,\n   'kickoff_time': '2024-02-03T15:00:00Z',\n   'event_name': 'Gameweek 23',\n   'is_home': False,\n   'difficulty': 3},\n  {'id': 236,\n   'code': 2367773,\n   'team_h': 13,\n   'team_h_score': None,\n   'team_a': 9,\n   'team_a_score': None,\n   'event': 24,\n   'finished': False,\n   'minutes': 0,\n   'provisional_start_time': False,\n   'kickoff_time': '2024-02-10T15:00:00Z',\n   'event_name': 'Gameweek 24',\n   'is_home': True,\n   'difficulty': 2},\n  {'id': 246,\n   'code': 2367783,\n   'team_h': 13,\n   'team_h_score': None,\n   'team_a': 7,\n   'team_a_score': None,\n   'event': 25,\n   'finished': False,\n   'minutes': 0,\n   'provisional_start_time': False,\n   'kickoff_time': '2024-02-17T15:00:00Z',\n   'event_name': 'Gameweek 25',\n   'is_home': True,\n   'difficulty': 3},\n  {'id': 253,\n   'code': 2367788,\n   'team_h': 3,\n   'team_h_score': None,\n   'team_a': 13,\n   'team_a_score': None,\n   'event': 26,\n   'finished': False,\n   'minutes': 0,\n   'provisional_start_time': False,\n   'kickoff_time': '2024-02-24T15:00:00Z',\n   'event_name': 'Gameweek 26',\n   'is_home': False,\n   'difficulty': 2},\n  {'id': 266,\n   'code': 2367803,\n   'team_h': 13,\n   'team_h_score': None,\n   'team_a': 14,\n   'team_a_score': None,\n   'event': 27,\n   'finished': False,\n   'minutes': 0,\n   'provisional_start_time': False,\n   'kickoff_time': '2024-03-02T15:00:00Z',\n   'event_name': 'Gameweek 27',\n   'is_home': True,\n   'difficulty': 3},\n  {'id': 277,\n   'code': 2367814,\n   'team_h': 11,\n   'team_h_score': None,\n   'team_a': 13,\n   'team_a_score': None,\n   'event': 28,\n   'finished': False,\n   'minutes': 0,\n   'provisional_start_time': False,\n   'kickoff_time': '2024-03-09T15:00:00Z',\n   'event_name': 'Gameweek 28',\n   'is_home': False,\n   'difficulty': 4},\n  {'id': 282,\n   'code': 2367819,\n   'team_h': 5,\n   'team_h_score': None,\n   'team_a': 13,\n   'team_a_score': None,\n   'event': 29,\n   'finished': False,\n   'minutes': 0,\n   'provisional_start_time': False,\n   'kickoff_time': '2024-03-16T15:00:00Z',\n   'event_name': 'Gameweek 29',\n   'is_home': False,\n   'difficulty': 3},\n  {'id': 296,\n   'code': 2367833,\n   'team_h': 13,\n   'team_h_score': None,\n   'team_a': 1,\n   'team_a_score': None,\n   'event': 30,\n   'finished': False,\n   'minutes': 0,\n   'provisional_start_time': False,\n   'kickoff_time': '2024-03-30T15:00:00Z',\n   'event_name': 'Gameweek 30',\n   'is_home': True,\n   'difficulty': 4},\n  {'id': 309,\n   'code': 2367846,\n   'team_h': 13,\n   'team_h_score': None,\n   'team_a': 2,\n   'team_a_score': None,\n   'event': 31,\n   'finished': False,\n   'minutes': 0,\n   'provisional_start_time': False,\n   'kickoff_time': '2024-04-03T19:00:00Z',\n   'event_name': 'Gameweek 31',\n   'is_home': True,\n   'difficulty': 3},\n  {'id': 313,\n   'code': 2367850,\n   'team_h': 8,\n   'team_h_score': None,\n   'team_a': 13,\n   'team_a_score': None,\n   'event': 32,\n   'finished': False,\n   'minutes': 0,\n   'provisional_start_time': False,\n   'kickoff_time': '2024-04-06T14:00:00Z',\n   'event_name': 'Gameweek 32',\n   'is_home': False,\n   'difficulty': 2},\n  {'id': 327,\n   'code': 2367864,\n   'team_h': 13,\n   'team_h_score': None,\n   'team_a': 12,\n   'team_a_score': None,\n   'event': 33,\n   'finished': False,\n   'minutes': 0,\n   'provisional_start_time': False,\n   'kickoff_time': '2024-04-13T14:00:00Z',\n   'event_name': 'Gameweek 33',\n   'is_home': True,\n   'difficulty': 2},\n  {'id': 339,\n   'code': 2367876,\n   'team_h': 18,\n   'team_h_score': None,\n   'team_a': 13,\n   'team_a_score': None,\n   'event': 34,\n   'finished': False,\n   'minutes': 0,\n   'provisional_start_time': False,\n   'kickoff_time': '2024-04-20T14:00:00Z',\n   'event_name': 'Gameweek 34',\n   'is_home': False,\n   'difficulty': 3},\n  {'id': 347,\n   'code': 2367884,\n   'team_h': 16,\n   'team_h_score': None,\n   'team_a': 13,\n   'team_a_score': None,\n   'event': 35,\n   'finished': False,\n   'minutes': 0,\n   'provisional_start_time': False,\n   'kickoff_time': '2024-04-27T14:00:00Z',\n   'event_name': 'Gameweek 35',\n   'is_home': False,\n   'difficulty': 2},\n  {'id': 359,\n   'code': 2367896,\n   'team_h': 13,\n   'team_h_score': None,\n   'team_a': 20,\n   'team_a_score': None,\n   'event': 36,\n   'finished': False,\n   'minutes': 0,\n   'provisional_start_time': False,\n   'kickoff_time': '2024-05-04T14:00:00Z',\n   'event_name': 'Gameweek 36',\n   'is_home': True,\n   'difficulty': 2},\n  {'id': 364,\n   'code': 2367901,\n   'team_h': 10,\n   'team_h_score': None,\n   'team_a': 13,\n   'team_a_score': None,\n   'event': 37,\n   'finished': False,\n   'minutes': 0,\n   'provisional_start_time': False,\n   'kickoff_time': '2024-05-11T14:00:00Z',\n   'event_name': 'Gameweek 37',\n   'is_home': False,\n   'difficulty': 2},\n  {'id': 379,\n   'code': 2367916,\n   'team_h': 13,\n   'team_h_score': None,\n   'team_a': 19,\n   'team_a_score': None,\n   'event': 38,\n   'finished': False,\n   'minutes': 0,\n   'provisional_start_time': False,\n   'kickoff_time': '2024-05-19T15:00:00Z',\n   'event_name': 'Gameweek 38',\n   'is_home': True,\n   'difficulty': 2},\n  {'id': 176,\n   'code': 2367713,\n   'team_h': 13,\n   'team_h_score': None,\n   'team_a': 4,\n   'team_a_score': None,\n   'event': None,\n   'finished': False,\n   'minutes': 0,\n   'provisional_start_time': False,\n   'kickoff_time': None,\n   'is_home': True,\n   'difficulty': 3}],\n 'history': [{'element': 355,\n   'fixture': 1,\n   'opponent_team': 6,\n   'total_points': 13,\n   'was_home': False,\n   'kickoff_time': '2023-08-11T19:00:00Z',\n   'team_h_score': 0,\n   'team_a_score': 3,\n   'round': 1,\n   'minutes': 79,\n   'goals_scored': 2,\n   'assists': 0,\n   'clean_sheets': 1,\n   'goals_conceded': 0,\n   'own_goals': 0,\n   'penalties_saved': 0,\n   'penalties_missed': 0,\n   'yellow_cards': 0,\n   'red_cards': 0,\n   'saves': 0,\n   'bonus': 3,\n   'bps': 56,\n   'influence': '67.6',\n   'creativity': '23.7',\n   'threat': '48.0',\n   'ict_index': '13.9',\n   'starts': 1,\n   'expected_goals': '0.60',\n   'expected_assists': '0.05',\n   'expected_goal_involvements': '0.65',\n   'expected_goals_conceded': '0.23',\n   'value': 140,\n   'transfers_balance': 0,\n   'selected': 7200159,\n   'transfers_in': 0,\n   'transfers_out': 0}],\n 'history_past': [{'season_name': '2022/23',\n   'element_code': 223094,\n   'start_cost': 115,\n   'end_cost': 124,\n   'total_points': 272,\n   'minutes': 2767,\n   'goals_scored': 36,\n   'assists': 9,\n   'clean_sheets': 13,\n   'goals_conceded': 26,\n   'own_goals': 0,\n   'penalties_saved': 0,\n   'penalties_missed': 0,\n   'yellow_cards': 5,\n   'red_cards': 0,\n   'saves': 0,\n   'bonus': 40,\n   'bps': 1040,\n   'influence': '1390.0',\n   'creativity': '371.0',\n   'threat': '1825.0',\n   'ict_index': '358.1',\n   'starts': 33,\n   'expected_goals': '28.54',\n   'expected_assists': '3.11',\n   'expected_goal_involvements': '31.65',\n   'expected_goals_conceded': '25.24'}]}"
     },
     "execution_count": 26,
     "metadata": {},
     "output_type": "execute_result"
    }
   ],
   "source": [
    "player_response"
   ],
   "metadata": {
    "collapsed": false,
    "ExecuteTime": {
     "start_time": "2023-08-13T10:18:54.758290Z",
     "end_time": "2023-08-13T10:18:54.797569Z"
    }
   }
  },
  {
   "cell_type": "code",
   "execution_count": 28,
   "outputs": [
    {
     "data": {
      "text/plain": "{'element': 355,\n 'fixture': 1,\n 'opponent_team': 6,\n 'total_points': 13,\n 'was_home': False,\n 'kickoff_time': '2023-08-11T19:00:00Z',\n 'team_h_score': 0,\n 'team_a_score': 3,\n 'round': 1,\n 'minutes': 79,\n 'goals_scored': 2,\n 'assists': 0,\n 'clean_sheets': 1,\n 'goals_conceded': 0,\n 'own_goals': 0,\n 'penalties_saved': 0,\n 'penalties_missed': 0,\n 'yellow_cards': 0,\n 'red_cards': 0,\n 'saves': 0,\n 'bonus': 3,\n 'bps': 56,\n 'influence': '67.6',\n 'creativity': '23.7',\n 'threat': '48.0',\n 'ict_index': '13.9',\n 'starts': 1,\n 'expected_goals': '0.60',\n 'expected_assists': '0.05',\n 'expected_goal_involvements': '0.65',\n 'expected_goals_conceded': '0.23',\n 'value': 140,\n 'transfers_balance': 0,\n 'selected': 7200159,\n 'transfers_in': 0,\n 'transfers_out': 0}"
     },
     "execution_count": 28,
     "metadata": {},
     "output_type": "execute_result"
    }
   ],
   "source": [
    "player_response['history'][0][]"
   ],
   "metadata": {
    "collapsed": false,
    "ExecuteTime": {
     "start_time": "2023-08-13T10:20:54.554153Z",
     "end_time": "2023-08-13T10:20:54.564684Z"
    }
   }
  },
  {
   "cell_type": "code",
   "execution_count": 137,
   "outputs": [
    {
     "name": "stdout",
     "output_type": "stream",
     "text": [
      "hej\n"
     ]
    },
    {
     "ename": "TypeError",
     "evalue": "unhashable type: 'dict'",
     "output_type": "error",
     "traceback": [
      "\u001B[0;31m---------------------------------------------------------------------------\u001B[0m",
      "\u001B[0;31mTypeError\u001B[0m                                 Traceback (most recent call last)",
      "\u001B[0;32m/var/folders/xr/npr6w19s607489cf8m8351_m0000gn/T/ipykernel_67086/2944968238.py\u001B[0m in \u001B[0;36m<module>\u001B[0;34m\u001B[0m\n\u001B[1;32m    137\u001B[0m \u001B[0mprint\u001B[0m\u001B[0;34m(\u001B[0m\u001B[0;34m'hej'\u001B[0m\u001B[0;34m)\u001B[0m\u001B[0;34m\u001B[0m\u001B[0;34m\u001B[0m\u001B[0m\n\u001B[1;32m    138\u001B[0m \u001B[0;32mfor\u001B[0m \u001B[0mp\u001B[0m \u001B[0;32min\u001B[0m \u001B[0mparticipants_list\u001B[0m\u001B[0;34m:\u001B[0m\u001B[0;34m\u001B[0m\u001B[0;34m\u001B[0m\u001B[0m\n\u001B[0;32m--> 139\u001B[0;31m     \u001B[0mteam_dict\u001B[0m\u001B[0;34m[\u001B[0m\u001B[0mp\u001B[0m\u001B[0;34m]\u001B[0m \u001B[0;34m=\u001B[0m \u001B[0mTeam\u001B[0m\u001B[0;34m(\u001B[0m\u001B[0mp\u001B[0m\u001B[0;34m)\u001B[0m\u001B[0;34m\u001B[0m\u001B[0;34m\u001B[0m\u001B[0m\n\u001B[0m\u001B[1;32m    140\u001B[0m \u001B[0;34m\u001B[0m\u001B[0m\n\u001B[1;32m    141\u001B[0m \u001B[0mprint\u001B[0m\u001B[0;34m(\u001B[0m\u001B[0;34m'hej'\u001B[0m\u001B[0;34m)\u001B[0m\u001B[0;34m\u001B[0m\u001B[0;34m\u001B[0m\u001B[0m\n",
      "\u001B[0;31mTypeError\u001B[0m: unhashable type: 'dict'"
     ]
    }
   ],
   "source": [
    "class Player:\n",
    "\n",
    "    def __init__(self, element: int):\n",
    "        try:\n",
    "            self.player_history: list = []\n",
    "            self.opponent_team: int = ''\n",
    "            self.total_points: int = ''\n",
    "            self.was_home: int = ''\n",
    "            self.team_h_score: int = ''\n",
    "            self.team_a_score: int = ''\n",
    "            self.minutes: int = ''\n",
    "            self.goals_scored: int = ''\n",
    "            self.assists: int = ''\n",
    "            self.clean_sheets: int = ''\n",
    "            self.goals_conceded: int = ''\n",
    "            self.own_goals: int = ''\n",
    "            self.penalties_saved: int = ''\n",
    "            self.penalties_missed: int = ''\n",
    "            self.yellow_cards: int = ''\n",
    "            self.red_cards: int = ''\n",
    "            self.saves: int = ''\n",
    "            self.bonus: int = ''\n",
    "            self.bps: int = ''\n",
    "            self.influence: float = ''\n",
    "            self.creativity: float = ''\n",
    "            self.threat: float = ''\n",
    "            self.ict_index: float = ''\n",
    "            self.starts: int = ''\n",
    "            self.expected_goals: float = ''\n",
    "            self.expected_assists: float = ''\n",
    "            self.expected_goal_involvements: float = ''\n",
    "            self.expected_goals_conceded: float = ''\n",
    "            self.value: int = ''\n",
    "\n",
    "            filtered_df = df_all[df_all['id_y'] == element]\n",
    "            self.team_name = filtered_df['name'].iloc[0]\n",
    "            self.first_name = filtered_df['first_name'].iloc[0]\n",
    "            self.second_name = filtered_df['second_name'].iloc[0]\n",
    "            self.position = position_dict[int(filtered_df['element_type'].iloc[0])]\n",
    "            self.team_name = filtered_df['name'].iloc[0]\n",
    "            self.team_name = filtered_df['name'].iloc[0]\n",
    "\n",
    "            player_response_raw = rq.get(f'https://fantasy.premierleague.com/api/element-summary/{element}/')\n",
    "            player_response: json = player_response_raw.json()\n",
    "\n",
    "            for gw in player_response['history']:\n",
    "                self.player_history.append(gw)\n",
    "\n",
    "            gw_summary = player_response['history'][-1]\n",
    "\n",
    "            self.opponent_team = int(gw_summary['opponent_team'])\n",
    "            self.total_points = int(gw_summary['total_points'])\n",
    "            self.was_home = int(gw_summary['was_home'])\n",
    "            self.team_h_score = int(gw_summary['team_h_score'])\n",
    "            self.team_a_score = int(gw_summary['team_a_score'])\n",
    "            self.minutes = int(gw_summary['minutes'])\n",
    "            self.goals_scored = int(gw_summary['goals_scored'])\n",
    "            self.assists = int(gw_summary['assists'])\n",
    "            self.clean_sheets = int(gw_summary['clean_sheets'])\n",
    "            self.goals_conceded = int(player_response['history'][-1]['goals_conceded'])\n",
    "            self.own_goals = int(player_response['history'][-1]['own_goals'])\n",
    "            self.penalties_saved = int(player_response['history'][-1]['penalties_saved'])\n",
    "            self.penalties_missed = int(player_response['history'][-1]['penalties_missed'])\n",
    "            self.yellow_cards = int(player_response['history'][-1]['yellow_cards'])\n",
    "            self.red_cards = int(player_response['history'][-1]['red_cards'])\n",
    "            self.saves = int(player_response['history'][-1]['saves'])\n",
    "            self.bonus = int(player_response['history'][-1]['bonus'])\n",
    "            self.bps = int(player_response['history'][-1]['bps'])\n",
    "            self.influence = float(player_response['history'][-1]['influence'])\n",
    "            self.creativity = float(player_response['history'][-1]['creativity'])\n",
    "            self.threat = float(player_response['history'][-1]['threat'])\n",
    "            self.ict_index = float(player_response['history'][-1]['ict_index'])\n",
    "            self.starts = int(player_response['history'][-1]['starts'])\n",
    "            self.expected_goals = float(player_response['history'][-1]['expected_goals'])\n",
    "            self.expected_assists = float(player_response['history'][-1]['expected_assists'])\n",
    "            self.expected_goal_involvements = float(player_response['history'][-1]['expected_goal_involvements'])\n",
    "            self.expected_goals_conceded = float(player_response['history'][-1]['expected_goals_conceded'])\n",
    "            self.value = int(player_response['history'][-1]['value'])\n",
    "            self.uniqueness = df_unique[df_unique['player'] == element]['unique'].iloc[0]\n",
    "        except:\n",
    "            pass\n",
    "\n",
    "\n",
    "class Team:\n",
    "\n",
    "    def __init__(self, entry: str):\n",
    "        self.entry = entry\n",
    "        self.df_unique = df_unique[df_unique['entry'] == entry]\n",
    "        self.uniqueness = self.df_unique['unique'].mean()\n",
    "        self.player_list: list = [p for p in self.df_unique['player']]\n",
    "        self.player_dict: dict = {p: player_dict[p] for p in self.player_list}\n",
    "\n",
    "\n",
    "\n",
    "url_bootstrap = 'https://fantasy.premierleague.com/api/bootstrap-static/'\n",
    "bootstrap_raw = rq.get(url_bootstrap)\n",
    "bootstrap: json = bootstrap_raw.json()\n",
    "\n",
    "df_teams = pd.DataFrame(bootstrap['teams'])\n",
    "df_players = pd.DataFrame(bootstrap['elements'])\n",
    "df_all = pd.merge(df_teams, df_players, left_on='id', right_on='team')\n",
    "\n",
    "position_dict: dict = {1: 'GOAL', 2: 'DEF', 3: 'MID', 4: 'FWD'}  # element_type\n",
    "\n",
    "league_response_raw = rq.get('https://fantasy.premierleague.com/api/leagues-classic/27964/standings/')\n",
    "league_response: json = league_response_raw.json()\n",
    "\n",
    "participants_json = league_response['standings']['results']\n",
    "participants_list: list = []\n",
    "\n",
    "for p in league_response['standings']['results']:\n",
    "    entry = p['entry']\n",
    "    participant_response_raw = rq.get(f'https://fantasy.premierleague.com/api/entry/{entry}/event/1/picks/')\n",
    "    participant_response: json = participant_response_raw.json()\n",
    "\n",
    "    pick_dict = []\n",
    "    entry_picks = [player['element'] for player in participant_response['picks']]\n",
    "\n",
    "    participants_list.append({entry: entry_picks})\n",
    "    time.sleep(0.5)\n",
    "\n",
    "\n",
    "data = [(key, value) for team in participants_list for key, values in team.items() for value in values]\n",
    "\n",
    "df_melted_players = pd.DataFrame(data, columns=['entry', 'player'])\n",
    "df_groupby = df_melted_players.groupby('player').count().sort_values('entry', ascending=False)\n",
    "df_groupby['unique'] = 1 - (df_groupby['entry'] - 1) / (len(participants_list) - 1)\n",
    "df_unique = df.merge(df_groupby.drop('entry', axis=1), on='player', how='left')\n",
    "\n",
    "player_dict: dict = {}\n",
    "\n",
    "for p in df_groupby.reset_index()['player']:\n",
    "    player_dict[p] = Player(p)\n",
    "\n",
    "team_dict: dict = {}\n",
    "\n",
    "print('hej')\n",
    "for p in participants_list:\n",
    "    team_dict[p] = Team(p)\n",
    "\n",
    "print('hej')"
   ],
   "metadata": {
    "collapsed": false,
    "ExecuteTime": {
     "start_time": "2023-08-13T14:00:44.143646Z",
     "end_time": "2023-08-13T14:03:32.948727Z"
    }
   }
  },
  {
   "cell_type": "code",
   "execution_count": 125,
   "outputs": [],
   "source": [
    "df_melted_players = pd.DataFrame(data, columns=['entry', 'player'])\n",
    "df_groupby = df_melted_players.groupby('player').count().sort_values('entry', ascending=False)\n",
    "df_groupby['unique'] = 1 - (df_groupby['entry'] - 1) / (len(participants_list) - 1)\n",
    "df_unique = df.merge(df_groupby.drop('entry', axis=1), on='player', how='left')"
   ],
   "metadata": {
    "collapsed": false,
    "ExecuteTime": {
     "start_time": "2023-08-13T13:33:15.100292Z",
     "end_time": "2023-08-13T13:33:15.199621Z"
    }
   }
  },
  {
   "cell_type": "code",
   "execution_count": 127,
   "outputs": [
    {
     "name": "stdout",
     "output_type": "stream",
     "text": [
      "355\n",
      "19\n",
      "396\n",
      "131\n",
      "368\n",
      "5\n",
      "14\n",
      "405\n",
      "415\n",
      "135\n",
      "60\n",
      "524\n",
      "398\n",
      "373\n",
      "195\n",
      "473\n",
      "597\n",
      "17\n",
      "143\n",
      "308\n",
      "226\n",
      "29\n",
      "430\n",
      "290\n",
      "108\n",
      "51\n",
      "402\n",
      "20\n",
      "433\n",
      "291\n",
      "263\n",
      "132\n",
      "12\n",
      "28\n",
      "353\n",
      "509\n",
      "113\n",
      "109\n",
      "349\n",
      "538\n",
      "501\n",
      "206\n",
      "313\n",
      "6\n",
      "346\n",
      "303\n",
      "352\n",
      "275\n",
      "197\n",
      "304\n",
      "148\n",
      "354\n",
      "211\n",
      "26\n",
      "134\n",
      "526\n",
      "326\n",
      "53\n",
      "293\n",
      "8\n",
      "33\n",
      "499\n",
      "343\n",
      "139\n",
      "316\n",
      "119\n",
      "447\n",
      "504\n",
      "365\n",
      "507\n",
      "112\n",
      "106\n",
      "500\n",
      "602\n",
      "140\n",
      "490\n",
      "599\n",
      "403\n",
      "49\n",
      "43\n",
      "209\n",
      "228\n",
      "230\n",
      "13\n",
      "533\n",
      "391\n",
      "427\n",
      "37\n",
      "424\n",
      "36\n",
      "419\n",
      "466\n",
      "428\n",
      "429\n",
      "502\n",
      "491\n",
      "496\n",
      "577\n",
      "572\n",
      "552\n",
      "541\n",
      "540\n",
      "539\n",
      "532\n",
      "528\n",
      "15\n",
      "523\n",
      "513\n",
      "506\n",
      "407\n",
      "31\n",
      "497\n",
      "412\n",
      "192\n",
      "406\n",
      "252\n",
      "128\n",
      "302\n",
      "282\n",
      "278\n",
      "145\n",
      "271\n",
      "258\n",
      "256\n",
      "245\n",
      "48\n",
      "243\n",
      "152\n",
      "220\n",
      "207\n",
      "160\n",
      "205\n",
      "198\n",
      "167\n",
      "306\n",
      "307\n",
      "126\n",
      "309\n",
      "401\n",
      "397\n",
      "55\n",
      "382\n",
      "172\n",
      "58\n",
      "63\n",
      "361\n",
      "358\n",
      "356\n",
      "72\n",
      "101\n",
      "103\n",
      "350\n",
      "344\n",
      "336\n",
      "324\n",
      "377\n"
     ]
    }
   ],
   "source": [
    "for p in df_groupby.reset_index()['player']:\n",
    "    print(p)"
   ],
   "metadata": {
    "collapsed": false,
    "ExecuteTime": {
     "start_time": "2023-08-13T13:33:41.072887Z",
     "end_time": "2023-08-13T13:33:41.099689Z"
    }
   }
  },
  {
   "cell_type": "code",
   "execution_count": 123,
   "outputs": [
    {
     "data": {
      "text/plain": "       entry  player    unique\n0    1825965     275  0.928571\n1    1825965     131  0.523810\n2    1825965      20  0.857143\n3    1825965     430  0.833333\n4    1825965     497  1.000000\n..       ...     ...       ...\n640   568537     433  0.857143\n641   568537     145  1.000000\n642   568537     206  0.904762\n643   568537     397  1.000000\n644   568537       8  0.952381\n\n[645 rows x 3 columns]",
      "text/html": "<div>\n<style scoped>\n    .dataframe tbody tr th:only-of-type {\n        vertical-align: middle;\n    }\n\n    .dataframe tbody tr th {\n        vertical-align: top;\n    }\n\n    .dataframe thead th {\n        text-align: right;\n    }\n</style>\n<table border=\"1\" class=\"dataframe\">\n  <thead>\n    <tr style=\"text-align: right;\">\n      <th></th>\n      <th>entry</th>\n      <th>player</th>\n      <th>unique</th>\n    </tr>\n  </thead>\n  <tbody>\n    <tr>\n      <th>0</th>\n      <td>1825965</td>\n      <td>275</td>\n      <td>0.928571</td>\n    </tr>\n    <tr>\n      <th>1</th>\n      <td>1825965</td>\n      <td>131</td>\n      <td>0.523810</td>\n    </tr>\n    <tr>\n      <th>2</th>\n      <td>1825965</td>\n      <td>20</td>\n      <td>0.857143</td>\n    </tr>\n    <tr>\n      <th>3</th>\n      <td>1825965</td>\n      <td>430</td>\n      <td>0.833333</td>\n    </tr>\n    <tr>\n      <th>4</th>\n      <td>1825965</td>\n      <td>497</td>\n      <td>1.000000</td>\n    </tr>\n    <tr>\n      <th>...</th>\n      <td>...</td>\n      <td>...</td>\n      <td>...</td>\n    </tr>\n    <tr>\n      <th>640</th>\n      <td>568537</td>\n      <td>433</td>\n      <td>0.857143</td>\n    </tr>\n    <tr>\n      <th>641</th>\n      <td>568537</td>\n      <td>145</td>\n      <td>1.000000</td>\n    </tr>\n    <tr>\n      <th>642</th>\n      <td>568537</td>\n      <td>206</td>\n      <td>0.904762</td>\n    </tr>\n    <tr>\n      <th>643</th>\n      <td>568537</td>\n      <td>397</td>\n      <td>1.000000</td>\n    </tr>\n    <tr>\n      <th>644</th>\n      <td>568537</td>\n      <td>8</td>\n      <td>0.952381</td>\n    </tr>\n  </tbody>\n</table>\n<p>645 rows × 3 columns</p>\n</div>"
     },
     "execution_count": 123,
     "metadata": {},
     "output_type": "execute_result"
    }
   ],
   "source": [
    "df_unique"
   ],
   "metadata": {
    "collapsed": false,
    "ExecuteTime": {
     "start_time": "2023-08-13T13:32:35.633487Z",
     "end_time": "2023-08-13T13:32:35.645054Z"
    }
   }
  },
  {
   "cell_type": "code",
   "execution_count": 130,
   "outputs": [
    {
     "data": {
      "text/plain": "      entry  player    unique\n0   1825965     275  0.928571\n1   1825965     131  0.523810\n2   1825965      20  0.857143\n3   1825965     430  0.833333\n4   1825965     497  1.000000\n5   1825965     429  1.000000\n6   1825965      14  0.619048\n7   1825965     373  0.738095\n8   1825965      15  1.000000\n9   1825965     415  0.714286\n10  1825965     355  0.119048\n11  1825965     291  0.880952\n12  1825965     290  0.857143\n13  1825965     539  1.000000\n14  1825965     523  1.000000",
      "text/html": "<div>\n<style scoped>\n    .dataframe tbody tr th:only-of-type {\n        vertical-align: middle;\n    }\n\n    .dataframe tbody tr th {\n        vertical-align: top;\n    }\n\n    .dataframe thead th {\n        text-align: right;\n    }\n</style>\n<table border=\"1\" class=\"dataframe\">\n  <thead>\n    <tr style=\"text-align: right;\">\n      <th></th>\n      <th>entry</th>\n      <th>player</th>\n      <th>unique</th>\n    </tr>\n  </thead>\n  <tbody>\n    <tr>\n      <th>0</th>\n      <td>1825965</td>\n      <td>275</td>\n      <td>0.928571</td>\n    </tr>\n    <tr>\n      <th>1</th>\n      <td>1825965</td>\n      <td>131</td>\n      <td>0.523810</td>\n    </tr>\n    <tr>\n      <th>2</th>\n      <td>1825965</td>\n      <td>20</td>\n      <td>0.857143</td>\n    </tr>\n    <tr>\n      <th>3</th>\n      <td>1825965</td>\n      <td>430</td>\n      <td>0.833333</td>\n    </tr>\n    <tr>\n      <th>4</th>\n      <td>1825965</td>\n      <td>497</td>\n      <td>1.000000</td>\n    </tr>\n    <tr>\n      <th>5</th>\n      <td>1825965</td>\n      <td>429</td>\n      <td>1.000000</td>\n    </tr>\n    <tr>\n      <th>6</th>\n      <td>1825965</td>\n      <td>14</td>\n      <td>0.619048</td>\n    </tr>\n    <tr>\n      <th>7</th>\n      <td>1825965</td>\n      <td>373</td>\n      <td>0.738095</td>\n    </tr>\n    <tr>\n      <th>8</th>\n      <td>1825965</td>\n      <td>15</td>\n      <td>1.000000</td>\n    </tr>\n    <tr>\n      <th>9</th>\n      <td>1825965</td>\n      <td>415</td>\n      <td>0.714286</td>\n    </tr>\n    <tr>\n      <th>10</th>\n      <td>1825965</td>\n      <td>355</td>\n      <td>0.119048</td>\n    </tr>\n    <tr>\n      <th>11</th>\n      <td>1825965</td>\n      <td>291</td>\n      <td>0.880952</td>\n    </tr>\n    <tr>\n      <th>12</th>\n      <td>1825965</td>\n      <td>290</td>\n      <td>0.857143</td>\n    </tr>\n    <tr>\n      <th>13</th>\n      <td>1825965</td>\n      <td>539</td>\n      <td>1.000000</td>\n    </tr>\n    <tr>\n      <th>14</th>\n      <td>1825965</td>\n      <td>523</td>\n      <td>1.000000</td>\n    </tr>\n  </tbody>\n</table>\n</div>"
     },
     "execution_count": 130,
     "metadata": {},
     "output_type": "execute_result"
    }
   ],
   "source": [
    "df_unique[df_unique['entry'] == 1825965]#['unique'].mean()"
   ],
   "metadata": {
    "collapsed": false,
    "ExecuteTime": {
     "start_time": "2023-08-13T13:48:14.469346Z",
     "end_time": "2023-08-13T13:48:14.521716Z"
    }
   }
  },
  {
   "cell_type": "code",
   "execution_count": 133,
   "outputs": [
    {
     "data": {
      "text/plain": "[275, 131, 20, 430, 497, 429, 14, 373, 15, 415, 355, 291, 290, 539, 523]"
     },
     "execution_count": 133,
     "metadata": {},
     "output_type": "execute_result"
    }
   ],
   "source": [
    "[p for p in df_unique[df_unique['entry'] == 1825965]['player']]\n"
   ],
   "metadata": {
    "collapsed": false,
    "ExecuteTime": {
     "start_time": "2023-08-13T13:50:17.588724Z",
     "end_time": "2023-08-13T13:50:17.597806Z"
    }
   }
  },
  {
   "cell_type": "code",
   "execution_count": 72,
   "outputs": [],
   "source": [
    "url_bootstrap = 'https://fantasy.premierleague.com/api/bootstrap-static/'\n",
    "bootstrap_raw = rq.get(url_bootstrap)"
   ],
   "metadata": {
    "collapsed": false,
    "ExecuteTime": {
     "start_time": "2023-08-13T12:41:19.225044Z",
     "end_time": "2023-08-13T12:41:19.370222Z"
    }
   }
  },
  {
   "cell_type": "code",
   "execution_count": 63,
   "outputs": [],
   "source": [
    "league_response_raw = rq.get('https://fantasy.premierleague.com/api/leagues-classic/27964/standings/')\n",
    "league_response: json = league_response_raw.json()"
   ],
   "metadata": {
    "collapsed": false
   }
  },
  {
   "cell_type": "code",
   "execution_count": 65,
   "outputs": [
    {
     "data": {
      "text/plain": "[{'id': 11957290,\n  'event_total': 75,\n  'player_name': 'Alvand Asgari',\n  'rank': 1,\n  'last_rank': 0,\n  'rank_sort': 1,\n  'total': 75,\n  'entry': 1825965,\n  'entry_name': 'ASCARI'},\n {'id': 9129900,\n  'event_total': 70,\n  'player_name': 'Albert Catana',\n  'rank': 2,\n  'last_rank': 0,\n  'rank_sort': 2,\n  'total': 70,\n  'entry': 1416075,\n  'entry_name': 'Point Snatchers FC'},\n {'id': 11961437,\n  'event_total': 67,\n  'player_name': 'Andreas Hedengrahn',\n  'rank': 3,\n  'last_rank': 0,\n  'rank_sort': 3,\n  'total': 67,\n  'entry': 1826476,\n  'entry_name': 'Djuuuu'},\n {'id': 3642937,\n  'event_total': 67,\n  'player_name': 'Viktor sjöberg',\n  'rank': 3,\n  'last_rank': 0,\n  'rank_sort': 4,\n  'total': 67,\n  'entry': 587678,\n  'entry_name': 'FC LAKEMOUNTAIN'},\n {'id': 35697940,\n  'event_total': 67,\n  'player_name': 'Richard Gjerde Norum',\n  'rank': 3,\n  'last_rank': 0,\n  'rank_sort': 5,\n  'total': 67,\n  'entry': 2381195,\n  'entry_name': 'Shaw Mee the Partey'},\n {'id': 15000997,\n  'event_total': 64,\n  'player_name': 'Anton Mägi Hurtig',\n  'rank': 6,\n  'last_rank': 0,\n  'rank_sort': 6,\n  'total': 64,\n  'entry': 2250462,\n  'entry_name': 'Vätö Bullfinches'},\n {'id': 11925950,\n  'event_total': 64,\n  'player_name': 'Mustafa Dahir',\n  'rank': 6,\n  'last_rank': 0,\n  'rank_sort': 7,\n  'total': 64,\n  'entry': 1822629,\n  'entry_name': 'Tollare City'},\n {'id': 67371282,\n  'event_total': 61,\n  'player_name': 'Paul Davies',\n  'rank': 8,\n  'last_rank': 0,\n  'rank_sort': 8,\n  'total': 61,\n  'entry': 7930723,\n  'entry_name': 'DaviesDynamos'},\n {'id': 23784356,\n  'event_total': 60,\n  'player_name': 'Emil Bergström',\n  'rank': 9,\n  'last_rank': 0,\n  'rank_sort': 9,\n  'total': 60,\n  'entry': 3426801,\n  'entry_name': 'Top Dogs'},\n {'id': 68158531,\n  'event_total': 60,\n  'player_name': 'Erik Karlsson',\n  'rank': 9,\n  'last_rank': 0,\n  'rank_sort': 10,\n  'total': 60,\n  'entry': 6925330,\n  'entry_name': 'Örjans Vallhundar'},\n {'id': 23235130,\n  'event_total': 59,\n  'player_name': 'Antonio Kuzmanovski',\n  'rank': 11,\n  'last_rank': 0,\n  'rank_sort': 11,\n  'total': 59,\n  'entry': 3355287,\n  'entry_name': 'FC Webgliders MKD'},\n {'id': 42448966,\n  'event_total': 59,\n  'player_name': 'Herman Rabben',\n  'rank': 11,\n  'last_rank': 0,\n  'rank_sort': 12,\n  'total': 59,\n  'entry': 5409089,\n  'entry_name': 'G Town'},\n {'id': 3629429,\n  'event_total': 59,\n  'player_name': 'Savvas Eleftheriadis',\n  'rank': 11,\n  'last_rank': 0,\n  'rank_sort': 13,\n  'total': 59,\n  'entry': 585573,\n  'entry_name': 'Iniestas mormor'},\n {'id': 42349434,\n  'event_total': 59,\n  'player_name': 'Philip Carlqvist',\n  'rank': 11,\n  'last_rank': 0,\n  'rank_sort': 14,\n  'total': 59,\n  'entry': 1023423,\n  'entry_name': 'Los Hermanos'},\n {'id': 3434842,\n  'event_total': 58,\n  'player_name': 'Jesper Barfvestam',\n  'rank': 15,\n  'last_rank': 0,\n  'rank_sort': 15,\n  'total': 58,\n  'entry': 128320,\n  'entry_name': 'Barf XI'},\n {'id': 43346315,\n  'event_total': 57,\n  'player_name': 'Thomas Gulaker',\n  'rank': 16,\n  'last_rank': 0,\n  'rank_sort': 16,\n  'total': 57,\n  'entry': 3480198,\n  'entry_name': 'FC Drull'},\n {'id': 20065843,\n  'event_total': 56,\n  'player_name': 'Sebastian Wik',\n  'rank': 17,\n  'last_rank': 0,\n  'rank_sort': 17,\n  'total': 56,\n  'entry': 2674464,\n  'entry_name': 'Go Home Partysvensk'},\n {'id': 5748299,\n  'event_total': 56,\n  'player_name': 'Roger Nilsen',\n  'rank': 17,\n  'last_rank': 0,\n  'rank_sort': 18,\n  'total': 56,\n  'entry': 911843,\n  'entry_name': 'Raging Ballers'},\n {'id': 38844299,\n  'event_total': 56,\n  'player_name': 'Magnus Ludvigsen',\n  'rank': 17,\n  'last_rank': 0,\n  'rank_sort': 19,\n  'total': 56,\n  'entry': 4982866,\n  'entry_name': 'Vamos Beber'},\n {'id': 65103713,\n  'event_total': 54,\n  'player_name': 'Anna Wallsten',\n  'rank': 20,\n  'last_rank': 0,\n  'rank_sort': 20,\n  'total': 54,\n  'entry': 7713620,\n  'entry_name': 'Wall FC'},\n {'id': 59516048,\n  'event_total': 54,\n  'player_name': 'Daniel Fredriksen',\n  'rank': 20,\n  'last_rank': 0,\n  'rank_sort': 21,\n  'total': 54,\n  'entry': 6419537,\n  'entry_name': 'greatballsonfire'},\n {'id': 21937206,\n  'event_total': 53,\n  'player_name': 'Mirza Izic',\n  'rank': 22,\n  'last_rank': 0,\n  'rank_sort': 22,\n  'total': 53,\n  'entry': 3186752,\n  'entry_name': 'FC Misfits United'},\n {'id': 39211796,\n  'event_total': 53,\n  'player_name': 'Henok Tesfazghi',\n  'rank': 22,\n  'last_rank': 0,\n  'rank_sort': 23,\n  'total': 53,\n  'entry': 4637860,\n  'entry_name': 'Stealth Squad'},\n {'id': 21065068,\n  'event_total': 52,\n  'player_name': 'Anders Utby',\n  'rank': 24,\n  'last_rank': 0,\n  'rank_sort': 24,\n  'total': 52,\n  'entry': 3067927,\n  'entry_name': 'Andut'},\n {'id': 17951084,\n  'event_total': 52,\n  'player_name': 'Cathrine Ryden',\n  'rank': 24,\n  'last_rank': 0,\n  'rank_sort': 25,\n  'total': 52,\n  'entry': 2653181,\n  'entry_name': 'Ryd1 AlltidUansett'},\n {'id': 57351783,\n  'event_total': 52,\n  'player_name': 'Emil Zargarian',\n  'rank': 24,\n  'last_rank': 0,\n  'rank_sort': 26,\n  'total': 52,\n  'entry': 6621853,\n  'entry_name': 'Al Ettifaq Zargari'},\n {'id': 11852999,\n  'event_total': 52,\n  'player_name': 'Gustav Hultemar',\n  'rank': 24,\n  'last_rank': 0,\n  'rank_sort': 27,\n  'total': 52,\n  'entry': 1811912,\n  'entry_name': 'Norclax United'},\n {'id': 52735657,\n  'event_total': 51,\n  'player_name': 'Alexandra Skog',\n  'rank': 28,\n  'last_rank': 0,\n  'rank_sort': 28,\n  'total': 51,\n  'entry': 6506511,\n  'entry_name': 'Cuddly kittens'},\n {'id': 3519927,\n  'event_total': 50,\n  'player_name': 'Niki Davies',\n  'rank': 29,\n  'last_rank': 0,\n  'rank_sort': 29,\n  'total': 50,\n  'entry': 568619,\n  'entry_name': 'Brummie FC'},\n {'id': 24105971,\n  'event_total': 49,\n  'player_name': 'Nils Kullgren',\n  'rank': 30,\n  'last_rank': 0,\n  'rank_sort': 30,\n  'total': 49,\n  'entry': 3467396,\n  'entry_name': 'NK'},\n {'id': 13468066,\n  'event_total': 48,\n  'player_name': 'jarle Ulvang',\n  'rank': 31,\n  'last_rank': 0,\n  'rank_sort': 31,\n  'total': 48,\n  'entry': 2042710,\n  'entry_name': 'JarleU'},\n {'id': 9025643,\n  'event_total': 47,\n  'player_name': 'Thorsten Bayer',\n  'rank': 32,\n  'last_rank': 0,\n  'rank_sort': 32,\n  'total': 47,\n  'entry': 975888,\n  'entry_name': 'La banda de Totti'},\n {'id': 4371850,\n  'event_total': 47,\n  'player_name': 'Eric Österblom',\n  'rank': 32,\n  'last_rank': 0,\n  'rank_sort': 33,\n  'total': 47,\n  'entry': 695036,\n  'entry_name': 'Bearcubs'},\n {'id': 11259307,\n  'event_total': 47,\n  'player_name': 'Andreas Grøndalen',\n  'rank': 32,\n  'last_rank': 0,\n  'rank_sort': 34,\n  'total': 47,\n  'entry': 543913,\n  'entry_name': 'Valverde United'},\n {'id': 4332370,\n  'event_total': 46,\n  'player_name': 'Pontus Wahlsten',\n  'rank': 35,\n  'last_rank': 0,\n  'rank_sort': 35,\n  'total': 46,\n  'entry': 689976,\n  'entry_name': 'Torsplan'},\n {'id': 934545,\n  'event_total': 46,\n  'player_name': 'Filip Engström',\n  'rank': 35,\n  'last_rank': 0,\n  'rank_sort': 36,\n  'total': 46,\n  'entry': 21482,\n  'entry_name': 'Finnboda Hotspur FC'},\n {'id': 23070533,\n  'event_total': 44,\n  'player_name': 'Erik Næsted',\n  'rank': 37,\n  'last_rank': 0,\n  'rank_sort': 37,\n  'total': 44,\n  'entry': 3334100,\n  'entry_name': 'Venskab Fodboldklub'},\n {'id': 57427074,\n  'event_total': 43,\n  'player_name': 'Jakob Englund',\n  'rank': 38,\n  'last_rank': 0,\n  'rank_sort': 38,\n  'total': 43,\n  'entry': 5221077,\n  'entry_name': 'Pending Moderation'},\n {'id': 60328500,\n  'event_total': 43,\n  'player_name': 'Jonas Axblom',\n  'rank': 38,\n  'last_rank': 0,\n  'rank_sort': 39,\n  'total': 43,\n  'entry': 5173578,\n  'entry_name': 'Jans bävrar'},\n {'id': 62101864,\n  'event_total': 36,\n  'player_name': 'Fanuel desalegn',\n  'rank': 40,\n  'last_rank': 0,\n  'rank_sort': 40,\n  'total': 36,\n  'entry': 7375419,\n  'entry_name': 'Glazers out'},\n {'id': 11839086,\n  'event_total': 33,\n  'player_name': 'Rikard Eklöf',\n  'rank': 41,\n  'last_rank': 0,\n  'rank_sort': 41,\n  'total': 33,\n  'entry': 1809908,\n  'entry_name': 'Solna Calcio'},\n {'id': 17952559,\n  'event_total': 18,\n  'player_name': 'Johan Renner',\n  'rank': 42,\n  'last_rank': 0,\n  'rank_sort': 42,\n  'total': 18,\n  'entry': 2653374,\n  'entry_name': 'DieRenners'},\n {'id': 3519411,\n  'event_total': 17,\n  'player_name': 'Magnus Leray',\n  'rank': 43,\n  'last_rank': 0,\n  'rank_sort': 43,\n  'total': 17,\n  'entry': 568537,\n  'entry_name': 'Masler77'}]"
     },
     "execution_count": 65,
     "metadata": {},
     "output_type": "execute_result"
    }
   ],
   "source": [
    "league_response['standings']['results']"
   ],
   "metadata": {
    "collapsed": false,
    "ExecuteTime": {
     "start_time": "2023-08-13T11:33:23.273617Z",
     "end_time": "2023-08-13T11:33:23.295107Z"
    }
   }
  },
  {
   "cell_type": "code",
   "execution_count": 146,
   "outputs": [
    {
     "data": {
      "text/plain": "    code  draw  form  id  loss            name  played  points  position  \\\n0      3     0  None   1     0         Arsenal       0       0         0   \n1      7     0  None   2     0     Aston Villa       0       0         0   \n2     91     0  None   3     0     Bournemouth       0       0         0   \n3     94     0  None   4     0       Brentford       0       0         0   \n4     36     0  None   5     0        Brighton       0       0         0   \n5     90     0  None   6     0         Burnley       0       0         0   \n6      8     0  None   7     0         Chelsea       0       0         0   \n7     31     0  None   8     0  Crystal Palace       0       0         0   \n8     11     0  None   9     0         Everton       0       0         0   \n9     54     0  None  10     0          Fulham       0       0         0   \n10    14     0  None  11     0       Liverpool       0       0         0   \n11   102     0  None  12     0           Luton       0       0         0   \n12    43     0  None  13     0        Man City       0       0         0   \n13     1     0  None  14     0         Man Utd       0       0         0   \n14     4     0  None  15     0       Newcastle       0       0         0   \n15    17     0  None  16     0   Nott'm Forest       0       0         0   \n16    49     0  None  17     0   Sheffield Utd       0       0         0   \n17     6     0  None  18     0           Spurs       0       0         0   \n18    21     0  None  19     0        West Ham       0       0         0   \n19    39     0  None  20     0          Wolves       0       0         0   \n\n   short_name  ...  team_division unavailable  win  strength_overall_home  \\\n0         ARS  ...           None       False    0                   1230   \n1         AVL  ...           None       False    0                   1115   \n2         BOU  ...           None       False    0                   1060   \n3         BRE  ...           None       False    0                   1125   \n4         BHA  ...           None       False    0                   1165   \n5         BUR  ...           None       False    0                   1060   \n6         CHE  ...           None       False    0                   1115   \n7         CRY  ...           None       False    0                   1100   \n8         EVE  ...           None       False    0                   1075   \n9         FUL  ...           None       False    0                   1095   \n10        LIV  ...           None       False    0                   1220   \n11        LUT  ...           None       False    0                   1045   \n12        MCI  ...           None       False    0                   1350   \n13        MUN  ...           None       False    0                   1145   \n14        NEW  ...           None       False    0                   1220   \n15        NFO  ...           None       False    0                   1050   \n16        SHU  ...           None       False    0                   1045   \n17        TOT  ...           None       False    0                   1130   \n18        WHU  ...           None       False    0                   1095   \n19        WOL  ...           None       False    0                   1065   \n\n    strength_overall_away  strength_attack_home  strength_attack_away  \\\n0                    1285                  1250                  1250   \n1                    1175                  1130                  1190   \n2                    1095                  1050                  1100   \n3                    1205                  1120                  1220   \n4                    1210                  1120                  1200   \n5                    1080                  1060                  1080   \n6                    1160                  1130                  1210   \n7                    1100                  1140                  1170   \n8                    1100                  1070                  1120   \n9                    1100                  1090                  1090   \n10                   1285                  1170                  1270   \n11                   1050                  1050                  1050   \n12                   1355                  1320                  1340   \n13                   1275                  1150                  1310   \n14                   1280                  1250                  1310   \n15                   1100                  1050                  1110   \n16                   1070                  1050                  1060   \n17                   1200                  1110                  1200   \n18                   1140                  1100                  1150   \n19                   1100                  1070                  1160   \n\n    strength_defence_home  strength_defence_away  pulse_id  \n0                    1210                   1320         1  \n1                    1100                   1160         2  \n2                    1060                   1090       127  \n3                    1130                   1190       130  \n4                    1210                   1240       131  \n5                    1060                   1080        43  \n6                    1100                   1110         4  \n7                    1080                   1085         6  \n8                    1080                   1080         7  \n9                    1100                   1140        34  \n10                   1260                   1300        10  \n11                   1040                   1050       163  \n12                   1320                   1370        11  \n13                   1140                   1240        12  \n14                   1190                   1250        23  \n15                   1050                   1120        15  \n16                   1040                   1080        18  \n17                   1150                   1200        21  \n18                   1090                   1130        25  \n19                   1060                   1080        38  \n\n[20 rows x 21 columns]",
      "text/html": "<div>\n<style scoped>\n    .dataframe tbody tr th:only-of-type {\n        vertical-align: middle;\n    }\n\n    .dataframe tbody tr th {\n        vertical-align: top;\n    }\n\n    .dataframe thead th {\n        text-align: right;\n    }\n</style>\n<table border=\"1\" class=\"dataframe\">\n  <thead>\n    <tr style=\"text-align: right;\">\n      <th></th>\n      <th>code</th>\n      <th>draw</th>\n      <th>form</th>\n      <th>id</th>\n      <th>loss</th>\n      <th>name</th>\n      <th>played</th>\n      <th>points</th>\n      <th>position</th>\n      <th>short_name</th>\n      <th>...</th>\n      <th>team_division</th>\n      <th>unavailable</th>\n      <th>win</th>\n      <th>strength_overall_home</th>\n      <th>strength_overall_away</th>\n      <th>strength_attack_home</th>\n      <th>strength_attack_away</th>\n      <th>strength_defence_home</th>\n      <th>strength_defence_away</th>\n      <th>pulse_id</th>\n    </tr>\n  </thead>\n  <tbody>\n    <tr>\n      <th>0</th>\n      <td>3</td>\n      <td>0</td>\n      <td>None</td>\n      <td>1</td>\n      <td>0</td>\n      <td>Arsenal</td>\n      <td>0</td>\n      <td>0</td>\n      <td>0</td>\n      <td>ARS</td>\n      <td>...</td>\n      <td>None</td>\n      <td>False</td>\n      <td>0</td>\n      <td>1230</td>\n      <td>1285</td>\n      <td>1250</td>\n      <td>1250</td>\n      <td>1210</td>\n      <td>1320</td>\n      <td>1</td>\n    </tr>\n    <tr>\n      <th>1</th>\n      <td>7</td>\n      <td>0</td>\n      <td>None</td>\n      <td>2</td>\n      <td>0</td>\n      <td>Aston Villa</td>\n      <td>0</td>\n      <td>0</td>\n      <td>0</td>\n      <td>AVL</td>\n      <td>...</td>\n      <td>None</td>\n      <td>False</td>\n      <td>0</td>\n      <td>1115</td>\n      <td>1175</td>\n      <td>1130</td>\n      <td>1190</td>\n      <td>1100</td>\n      <td>1160</td>\n      <td>2</td>\n    </tr>\n    <tr>\n      <th>2</th>\n      <td>91</td>\n      <td>0</td>\n      <td>None</td>\n      <td>3</td>\n      <td>0</td>\n      <td>Bournemouth</td>\n      <td>0</td>\n      <td>0</td>\n      <td>0</td>\n      <td>BOU</td>\n      <td>...</td>\n      <td>None</td>\n      <td>False</td>\n      <td>0</td>\n      <td>1060</td>\n      <td>1095</td>\n      <td>1050</td>\n      <td>1100</td>\n      <td>1060</td>\n      <td>1090</td>\n      <td>127</td>\n    </tr>\n    <tr>\n      <th>3</th>\n      <td>94</td>\n      <td>0</td>\n      <td>None</td>\n      <td>4</td>\n      <td>0</td>\n      <td>Brentford</td>\n      <td>0</td>\n      <td>0</td>\n      <td>0</td>\n      <td>BRE</td>\n      <td>...</td>\n      <td>None</td>\n      <td>False</td>\n      <td>0</td>\n      <td>1125</td>\n      <td>1205</td>\n      <td>1120</td>\n      <td>1220</td>\n      <td>1130</td>\n      <td>1190</td>\n      <td>130</td>\n    </tr>\n    <tr>\n      <th>4</th>\n      <td>36</td>\n      <td>0</td>\n      <td>None</td>\n      <td>5</td>\n      <td>0</td>\n      <td>Brighton</td>\n      <td>0</td>\n      <td>0</td>\n      <td>0</td>\n      <td>BHA</td>\n      <td>...</td>\n      <td>None</td>\n      <td>False</td>\n      <td>0</td>\n      <td>1165</td>\n      <td>1210</td>\n      <td>1120</td>\n      <td>1200</td>\n      <td>1210</td>\n      <td>1240</td>\n      <td>131</td>\n    </tr>\n    <tr>\n      <th>5</th>\n      <td>90</td>\n      <td>0</td>\n      <td>None</td>\n      <td>6</td>\n      <td>0</td>\n      <td>Burnley</td>\n      <td>0</td>\n      <td>0</td>\n      <td>0</td>\n      <td>BUR</td>\n      <td>...</td>\n      <td>None</td>\n      <td>False</td>\n      <td>0</td>\n      <td>1060</td>\n      <td>1080</td>\n      <td>1060</td>\n      <td>1080</td>\n      <td>1060</td>\n      <td>1080</td>\n      <td>43</td>\n    </tr>\n    <tr>\n      <th>6</th>\n      <td>8</td>\n      <td>0</td>\n      <td>None</td>\n      <td>7</td>\n      <td>0</td>\n      <td>Chelsea</td>\n      <td>0</td>\n      <td>0</td>\n      <td>0</td>\n      <td>CHE</td>\n      <td>...</td>\n      <td>None</td>\n      <td>False</td>\n      <td>0</td>\n      <td>1115</td>\n      <td>1160</td>\n      <td>1130</td>\n      <td>1210</td>\n      <td>1100</td>\n      <td>1110</td>\n      <td>4</td>\n    </tr>\n    <tr>\n      <th>7</th>\n      <td>31</td>\n      <td>0</td>\n      <td>None</td>\n      <td>8</td>\n      <td>0</td>\n      <td>Crystal Palace</td>\n      <td>0</td>\n      <td>0</td>\n      <td>0</td>\n      <td>CRY</td>\n      <td>...</td>\n      <td>None</td>\n      <td>False</td>\n      <td>0</td>\n      <td>1100</td>\n      <td>1100</td>\n      <td>1140</td>\n      <td>1170</td>\n      <td>1080</td>\n      <td>1085</td>\n      <td>6</td>\n    </tr>\n    <tr>\n      <th>8</th>\n      <td>11</td>\n      <td>0</td>\n      <td>None</td>\n      <td>9</td>\n      <td>0</td>\n      <td>Everton</td>\n      <td>0</td>\n      <td>0</td>\n      <td>0</td>\n      <td>EVE</td>\n      <td>...</td>\n      <td>None</td>\n      <td>False</td>\n      <td>0</td>\n      <td>1075</td>\n      <td>1100</td>\n      <td>1070</td>\n      <td>1120</td>\n      <td>1080</td>\n      <td>1080</td>\n      <td>7</td>\n    </tr>\n    <tr>\n      <th>9</th>\n      <td>54</td>\n      <td>0</td>\n      <td>None</td>\n      <td>10</td>\n      <td>0</td>\n      <td>Fulham</td>\n      <td>0</td>\n      <td>0</td>\n      <td>0</td>\n      <td>FUL</td>\n      <td>...</td>\n      <td>None</td>\n      <td>False</td>\n      <td>0</td>\n      <td>1095</td>\n      <td>1100</td>\n      <td>1090</td>\n      <td>1090</td>\n      <td>1100</td>\n      <td>1140</td>\n      <td>34</td>\n    </tr>\n    <tr>\n      <th>10</th>\n      <td>14</td>\n      <td>0</td>\n      <td>None</td>\n      <td>11</td>\n      <td>0</td>\n      <td>Liverpool</td>\n      <td>0</td>\n      <td>0</td>\n      <td>0</td>\n      <td>LIV</td>\n      <td>...</td>\n      <td>None</td>\n      <td>False</td>\n      <td>0</td>\n      <td>1220</td>\n      <td>1285</td>\n      <td>1170</td>\n      <td>1270</td>\n      <td>1260</td>\n      <td>1300</td>\n      <td>10</td>\n    </tr>\n    <tr>\n      <th>11</th>\n      <td>102</td>\n      <td>0</td>\n      <td>None</td>\n      <td>12</td>\n      <td>0</td>\n      <td>Luton</td>\n      <td>0</td>\n      <td>0</td>\n      <td>0</td>\n      <td>LUT</td>\n      <td>...</td>\n      <td>None</td>\n      <td>False</td>\n      <td>0</td>\n      <td>1045</td>\n      <td>1050</td>\n      <td>1050</td>\n      <td>1050</td>\n      <td>1040</td>\n      <td>1050</td>\n      <td>163</td>\n    </tr>\n    <tr>\n      <th>12</th>\n      <td>43</td>\n      <td>0</td>\n      <td>None</td>\n      <td>13</td>\n      <td>0</td>\n      <td>Man City</td>\n      <td>0</td>\n      <td>0</td>\n      <td>0</td>\n      <td>MCI</td>\n      <td>...</td>\n      <td>None</td>\n      <td>False</td>\n      <td>0</td>\n      <td>1350</td>\n      <td>1355</td>\n      <td>1320</td>\n      <td>1340</td>\n      <td>1320</td>\n      <td>1370</td>\n      <td>11</td>\n    </tr>\n    <tr>\n      <th>13</th>\n      <td>1</td>\n      <td>0</td>\n      <td>None</td>\n      <td>14</td>\n      <td>0</td>\n      <td>Man Utd</td>\n      <td>0</td>\n      <td>0</td>\n      <td>0</td>\n      <td>MUN</td>\n      <td>...</td>\n      <td>None</td>\n      <td>False</td>\n      <td>0</td>\n      <td>1145</td>\n      <td>1275</td>\n      <td>1150</td>\n      <td>1310</td>\n      <td>1140</td>\n      <td>1240</td>\n      <td>12</td>\n    </tr>\n    <tr>\n      <th>14</th>\n      <td>4</td>\n      <td>0</td>\n      <td>None</td>\n      <td>15</td>\n      <td>0</td>\n      <td>Newcastle</td>\n      <td>0</td>\n      <td>0</td>\n      <td>0</td>\n      <td>NEW</td>\n      <td>...</td>\n      <td>None</td>\n      <td>False</td>\n      <td>0</td>\n      <td>1220</td>\n      <td>1280</td>\n      <td>1250</td>\n      <td>1310</td>\n      <td>1190</td>\n      <td>1250</td>\n      <td>23</td>\n    </tr>\n    <tr>\n      <th>15</th>\n      <td>17</td>\n      <td>0</td>\n      <td>None</td>\n      <td>16</td>\n      <td>0</td>\n      <td>Nott'm Forest</td>\n      <td>0</td>\n      <td>0</td>\n      <td>0</td>\n      <td>NFO</td>\n      <td>...</td>\n      <td>None</td>\n      <td>False</td>\n      <td>0</td>\n      <td>1050</td>\n      <td>1100</td>\n      <td>1050</td>\n      <td>1110</td>\n      <td>1050</td>\n      <td>1120</td>\n      <td>15</td>\n    </tr>\n    <tr>\n      <th>16</th>\n      <td>49</td>\n      <td>0</td>\n      <td>None</td>\n      <td>17</td>\n      <td>0</td>\n      <td>Sheffield Utd</td>\n      <td>0</td>\n      <td>0</td>\n      <td>0</td>\n      <td>SHU</td>\n      <td>...</td>\n      <td>None</td>\n      <td>False</td>\n      <td>0</td>\n      <td>1045</td>\n      <td>1070</td>\n      <td>1050</td>\n      <td>1060</td>\n      <td>1040</td>\n      <td>1080</td>\n      <td>18</td>\n    </tr>\n    <tr>\n      <th>17</th>\n      <td>6</td>\n      <td>0</td>\n      <td>None</td>\n      <td>18</td>\n      <td>0</td>\n      <td>Spurs</td>\n      <td>0</td>\n      <td>0</td>\n      <td>0</td>\n      <td>TOT</td>\n      <td>...</td>\n      <td>None</td>\n      <td>False</td>\n      <td>0</td>\n      <td>1130</td>\n      <td>1200</td>\n      <td>1110</td>\n      <td>1200</td>\n      <td>1150</td>\n      <td>1200</td>\n      <td>21</td>\n    </tr>\n    <tr>\n      <th>18</th>\n      <td>21</td>\n      <td>0</td>\n      <td>None</td>\n      <td>19</td>\n      <td>0</td>\n      <td>West Ham</td>\n      <td>0</td>\n      <td>0</td>\n      <td>0</td>\n      <td>WHU</td>\n      <td>...</td>\n      <td>None</td>\n      <td>False</td>\n      <td>0</td>\n      <td>1095</td>\n      <td>1140</td>\n      <td>1100</td>\n      <td>1150</td>\n      <td>1090</td>\n      <td>1130</td>\n      <td>25</td>\n    </tr>\n    <tr>\n      <th>19</th>\n      <td>39</td>\n      <td>0</td>\n      <td>None</td>\n      <td>20</td>\n      <td>0</td>\n      <td>Wolves</td>\n      <td>0</td>\n      <td>0</td>\n      <td>0</td>\n      <td>WOL</td>\n      <td>...</td>\n      <td>None</td>\n      <td>False</td>\n      <td>0</td>\n      <td>1065</td>\n      <td>1100</td>\n      <td>1070</td>\n      <td>1160</td>\n      <td>1060</td>\n      <td>1080</td>\n      <td>38</td>\n    </tr>\n  </tbody>\n</table>\n<p>20 rows × 21 columns</p>\n</div>"
     },
     "execution_count": 146,
     "metadata": {},
     "output_type": "execute_result"
    }
   ],
   "source": [
    "df_teams"
   ],
   "metadata": {
    "collapsed": false,
    "ExecuteTime": {
     "start_time": "2023-08-13T14:34:53.328680Z",
     "end_time": "2023-08-13T14:34:53.476886Z"
    }
   }
  },
  {
   "cell_type": "code",
   "execution_count": 62,
   "outputs": [
    {
     "data": {
      "text/plain": "     code_x  draw form_x  id_x  loss      name  played  points  position  \\\n407      43     0   None    13     0  Man City       0       0         0   \n\n    short_name  ...  now_cost_rank now_cost_rank_type  form_rank  \\\n407        MCI  ...              1                  1          3   \n\n     form_rank_type  points_per_game_rank  points_per_game_rank_type  \\\n407               2                     3                          2   \n\n     selected_rank  selected_rank_type  starts_per_90  clean_sheets_per_90  \n407              1                   1           1.14                 1.14  \n\n[1 rows x 109 columns]",
      "text/html": "<div>\n<style scoped>\n    .dataframe tbody tr th:only-of-type {\n        vertical-align: middle;\n    }\n\n    .dataframe tbody tr th {\n        vertical-align: top;\n    }\n\n    .dataframe thead th {\n        text-align: right;\n    }\n</style>\n<table border=\"1\" class=\"dataframe\">\n  <thead>\n    <tr style=\"text-align: right;\">\n      <th></th>\n      <th>code_x</th>\n      <th>draw</th>\n      <th>form_x</th>\n      <th>id_x</th>\n      <th>loss</th>\n      <th>name</th>\n      <th>played</th>\n      <th>points</th>\n      <th>position</th>\n      <th>short_name</th>\n      <th>...</th>\n      <th>now_cost_rank</th>\n      <th>now_cost_rank_type</th>\n      <th>form_rank</th>\n      <th>form_rank_type</th>\n      <th>points_per_game_rank</th>\n      <th>points_per_game_rank_type</th>\n      <th>selected_rank</th>\n      <th>selected_rank_type</th>\n      <th>starts_per_90</th>\n      <th>clean_sheets_per_90</th>\n    </tr>\n  </thead>\n  <tbody>\n    <tr>\n      <th>407</th>\n      <td>43</td>\n      <td>0</td>\n      <td>None</td>\n      <td>13</td>\n      <td>0</td>\n      <td>Man City</td>\n      <td>0</td>\n      <td>0</td>\n      <td>0</td>\n      <td>MCI</td>\n      <td>...</td>\n      <td>1</td>\n      <td>1</td>\n      <td>3</td>\n      <td>2</td>\n      <td>3</td>\n      <td>2</td>\n      <td>1</td>\n      <td>1</td>\n      <td>1.14</td>\n      <td>1.14</td>\n    </tr>\n  </tbody>\n</table>\n<p>1 rows × 109 columns</p>\n</div>"
     },
     "execution_count": 62,
     "metadata": {},
     "output_type": "execute_result"
    }
   ],
   "source": [
    "df_all[df_all['id_y'] == 355]"
   ],
   "metadata": {
    "collapsed": false,
    "ExecuteTime": {
     "start_time": "2023-08-13T11:12:50.484829Z",
     "end_time": "2023-08-13T11:12:50.542217Z"
    }
   }
  },
  {
   "cell_type": "code",
   "execution_count": 145,
   "outputs": [
    {
     "name": "stdout",
     "output_type": "stream",
     "text": [
      "Keys: dict_keys(['name', 'age', 'country'])\n",
      "Keys: dict_keys(['name', 'age', 'country'])\n",
      "Keys: dict_keys(['name', 'age', 'country'])\n"
     ]
    }
   ],
   "source": [
    "list_of_dicts = [\n",
    "    {'name': 'Alice', 'age': 25, 'country': 'USA'},\n",
    "    {'name': 'Bob', 'age': 30, 'country': 'Canada'},\n",
    "    {'name': 'Charlie', 'age': 22, 'country': 'UK'}\n",
    "]\n",
    "\n",
    "for dictionary in list_of_dicts:\n",
    "    keys = dictionary.keys()\n",
    "    print(\"Keys:\", keys)\n"
   ],
   "metadata": {
    "collapsed": false,
    "ExecuteTime": {
     "start_time": "2023-08-13T14:15:18.693019Z",
     "end_time": "2023-08-13T14:15:18.696570Z"
    }
   }
  },
  {
   "cell_type": "code",
   "execution_count": null,
   "outputs": [],
   "source": [],
   "metadata": {
    "collapsed": false
   }
  }
 ],
 "metadata": {
  "kernelspec": {
   "display_name": "Python 3",
   "language": "python",
   "name": "python3"
  },
  "language_info": {
   "codemirror_mode": {
    "name": "ipython",
    "version": 2
   },
   "file_extension": ".py",
   "mimetype": "text/x-python",
   "name": "python",
   "nbconvert_exporter": "python",
   "pygments_lexer": "ipython2",
   "version": "2.7.6"
  }
 },
 "nbformat": 4,
 "nbformat_minor": 0
}
